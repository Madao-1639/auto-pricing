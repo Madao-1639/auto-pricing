{
 "cells": [
  {
   "attachments": {},
   "cell_type": "markdown",
   "metadata": {},
   "source": [
    "# 数据预处理 & 特征工程"
   ]
  },
  {
   "attachments": {},
   "cell_type": "markdown",
   "metadata": {},
   "source": [
    "## Import"
   ]
  },
  {
   "cell_type": "code",
   "execution_count": 66,
   "metadata": {},
   "outputs": [],
   "source": [
    "import pandas as pd\n",
    "import numpy as np\n",
    "import matplotlib.pyplot as plt\n",
    "import seaborn as sns\n",
    "\n",
    "plt.rcParams['font.sans-serif'] = 'SimHei'\n",
    "plt.rcParams['axes.unicode_minus'] = False"
   ]
  },
  {
   "cell_type": "code",
   "execution_count": 14,
   "metadata": {},
   "outputs": [
    {
     "data": {
      "text/html": [
       "<div>\n",
       "<style scoped>\n",
       "    .dataframe tbody tr th:only-of-type {\n",
       "        vertical-align: middle;\n",
       "    }\n",
       "\n",
       "    .dataframe tbody tr th {\n",
       "        vertical-align: top;\n",
       "    }\n",
       "\n",
       "    .dataframe thead th {\n",
       "        text-align: right;\n",
       "    }\n",
       "</style>\n",
       "<table border=\"1\" class=\"dataframe\">\n",
       "  <thead>\n",
       "    <tr style=\"text-align: right;\">\n",
       "      <th></th>\n",
       "      <th>area</th>\n",
       "      <th>building</th>\n",
       "      <th>direction</th>\n",
       "      <th>elevator</th>\n",
       "      <th>floor</th>\n",
       "      <th>garden</th>\n",
       "      <th>heating</th>\n",
       "      <th>_id</th>\n",
       "      <th>layout</th>\n",
       "      <th>region</th>\n",
       "      <th>renovation</th>\n",
       "      <th>stairway</th>\n",
       "      <th>structure</th>\n",
       "      <th>totalPrice</th>\n",
       "      <th>type</th>\n",
       "      <th>unitPrice</th>\n",
       "      <th>usage</th>\n",
       "      <th>year</th>\n",
       "    </tr>\n",
       "  </thead>\n",
       "  <tbody>\n",
       "    <tr>\n",
       "      <th>0</th>\n",
       "      <td>93.00</td>\n",
       "      <td>板塔结合</td>\n",
       "      <td>南</td>\n",
       "      <td>有</td>\n",
       "      <td>高楼层 (共30层)</td>\n",
       "      <td>长安</td>\n",
       "      <td>集中供暖</td>\n",
       "      <td>101117686545</td>\n",
       "      <td>3室2厅1厨1卫</td>\n",
       "      <td>长安</td>\n",
       "      <td>其他</td>\n",
       "      <td>两梯四户</td>\n",
       "      <td>钢混结构</td>\n",
       "      <td>165.0</td>\n",
       "      <td>NaN</td>\n",
       "      <td>17742.0</td>\n",
       "      <td>普通住宅</td>\n",
       "      <td>NaN</td>\n",
       "    </tr>\n",
       "    <tr>\n",
       "      <th>1</th>\n",
       "      <td>129.00</td>\n",
       "      <td>板塔结合</td>\n",
       "      <td>南 北</td>\n",
       "      <td>有</td>\n",
       "      <td>中楼层 (共33层)</td>\n",
       "      <td>长安</td>\n",
       "      <td>集中供暖</td>\n",
       "      <td>101117686563</td>\n",
       "      <td>3室1厅1厨2卫</td>\n",
       "      <td>长安</td>\n",
       "      <td>其他</td>\n",
       "      <td>两梯四户</td>\n",
       "      <td>未知结构</td>\n",
       "      <td>230.0</td>\n",
       "      <td>平层</td>\n",
       "      <td>17830.0</td>\n",
       "      <td>普通住宅</td>\n",
       "      <td>NaN</td>\n",
       "    </tr>\n",
       "    <tr>\n",
       "      <th>2</th>\n",
       "      <td>99.16</td>\n",
       "      <td>板塔结合</td>\n",
       "      <td>南 北</td>\n",
       "      <td>有</td>\n",
       "      <td>中楼层 (共31层)</td>\n",
       "      <td>曲江</td>\n",
       "      <td>集中供暖</td>\n",
       "      <td>101117686600</td>\n",
       "      <td>3室2厅1厨1卫</td>\n",
       "      <td>雁塔</td>\n",
       "      <td>其他</td>\n",
       "      <td>两梯四户</td>\n",
       "      <td>钢混结构</td>\n",
       "      <td>195.0</td>\n",
       "      <td>平层</td>\n",
       "      <td>19666.0</td>\n",
       "      <td>普通住宅</td>\n",
       "      <td>NaN</td>\n",
       "    </tr>\n",
       "    <tr>\n",
       "      <th>3</th>\n",
       "      <td>99.00</td>\n",
       "      <td>塔楼</td>\n",
       "      <td>南 北</td>\n",
       "      <td>有</td>\n",
       "      <td>高楼层 (共26层)</td>\n",
       "      <td>曲江</td>\n",
       "      <td>集中供暖</td>\n",
       "      <td>101117686611</td>\n",
       "      <td>3室2厅1厨1卫</td>\n",
       "      <td>雁塔</td>\n",
       "      <td>其他</td>\n",
       "      <td>三梯八户</td>\n",
       "      <td>钢混结构</td>\n",
       "      <td>149.0</td>\n",
       "      <td>NaN</td>\n",
       "      <td>15051.0</td>\n",
       "      <td>普通住宅</td>\n",
       "      <td>NaN</td>\n",
       "    </tr>\n",
       "    <tr>\n",
       "      <th>4</th>\n",
       "      <td>77.00</td>\n",
       "      <td>板塔结合</td>\n",
       "      <td>南 北</td>\n",
       "      <td>有</td>\n",
       "      <td>中楼层 (共34层)</td>\n",
       "      <td>曲江</td>\n",
       "      <td>集中供暖</td>\n",
       "      <td>101117686628</td>\n",
       "      <td>2室1厅1厨1卫</td>\n",
       "      <td>雁塔</td>\n",
       "      <td>其他</td>\n",
       "      <td>两梯四户</td>\n",
       "      <td>钢混结构</td>\n",
       "      <td>170.0</td>\n",
       "      <td>NaN</td>\n",
       "      <td>22078.0</td>\n",
       "      <td>普通住宅</td>\n",
       "      <td>NaN</td>\n",
       "    </tr>\n",
       "  </tbody>\n",
       "</table>\n",
       "</div>"
      ],
      "text/plain": [
       "     area building direction elevator       floor garden heating  \\\n",
       "0   93.00     板塔结合         南        有  高楼层 (共30层)     长安    集中供暖   \n",
       "1  129.00     板塔结合       南 北        有  中楼层 (共33层)     长安    集中供暖   \n",
       "2   99.16     板塔结合       南 北        有  中楼层 (共31层)     曲江    集中供暖   \n",
       "3   99.00       塔楼       南 北        有  高楼层 (共26层)     曲江    集中供暖   \n",
       "4   77.00     板塔结合       南 北        有  中楼层 (共34层)     曲江    集中供暖   \n",
       "\n",
       "            _id    layout region renovation stairway structure  totalPrice  \\\n",
       "0  101117686545  3室2厅1厨1卫     长安         其他     两梯四户      钢混结构       165.0   \n",
       "1  101117686563  3室1厅1厨2卫     长安         其他     两梯四户      未知结构       230.0   \n",
       "2  101117686600  3室2厅1厨1卫     雁塔         其他     两梯四户      钢混结构       195.0   \n",
       "3  101117686611  3室2厅1厨1卫     雁塔         其他     三梯八户      钢混结构       149.0   \n",
       "4  101117686628  2室1厅1厨1卫     雁塔         其他     两梯四户      钢混结构       170.0   \n",
       "\n",
       "  type  unitPrice usage year  \n",
       "0  NaN    17742.0  普通住宅  NaN  \n",
       "1   平层    17830.0  普通住宅  NaN  \n",
       "2   平层    19666.0  普通住宅  NaN  \n",
       "3  NaN    15051.0  普通住宅  NaN  \n",
       "4  NaN    22078.0  普通住宅  NaN  "
      ]
     },
     "execution_count": 14,
     "metadata": {},
     "output_type": "execute_result"
    }
   ],
   "source": [
    "fp = 'scrapy\\LianJiaSpider\\data.csv'\n",
    "raw_data = pd.read_csv(fp)\n",
    "raw_data.head()"
   ]
  },
  {
   "attachments": {},
   "cell_type": "markdown",
   "metadata": {},
   "source": [
    "## Overview"
   ]
  },
  {
   "cell_type": "code",
   "execution_count": 15,
   "metadata": {},
   "outputs": [
    {
     "name": "stdout",
     "output_type": "stream",
     "text": [
      "<class 'pandas.core.frame.DataFrame'>\n",
      "RangeIndex: 3000 entries, 0 to 2999\n",
      "Data columns (total 18 columns):\n",
      " #   Column      Non-Null Count  Dtype  \n",
      "---  ------      --------------  -----  \n",
      " 0   area        3000 non-null   float64\n",
      " 1   building    2753 non-null   object \n",
      " 2   direction   3000 non-null   object \n",
      " 3   elevator    2466 non-null   object \n",
      " 4   floor       3000 non-null   object \n",
      " 5   garden      3000 non-null   object \n",
      " 6   heating     2784 non-null   object \n",
      " 7   _id         3000 non-null   int64  \n",
      " 8   layout      2891 non-null   object \n",
      " 9   region      3000 non-null   object \n",
      " 10  renovation  2891 non-null   object \n",
      " 11  stairway    2880 non-null   object \n",
      " 12  structure   2891 non-null   object \n",
      " 13  totalPrice  3000 non-null   float64\n",
      " 14  type        2212 non-null   object \n",
      " 15  unitPrice   3000 non-null   float64\n",
      " 16  usage       3000 non-null   object \n",
      " 17  year        2170 non-null   object \n",
      "dtypes: float64(3), int64(1), object(14)\n",
      "memory usage: 422.0+ KB\n"
     ]
    },
    {
     "data": {
      "text/plain": [
       "None"
      ]
     },
     "metadata": {},
     "output_type": "display_data"
    },
    {
     "data": {
      "text/html": [
       "<div>\n",
       "<style scoped>\n",
       "    .dataframe tbody tr th:only-of-type {\n",
       "        vertical-align: middle;\n",
       "    }\n",
       "\n",
       "    .dataframe tbody tr th {\n",
       "        vertical-align: top;\n",
       "    }\n",
       "\n",
       "    .dataframe thead th {\n",
       "        text-align: right;\n",
       "    }\n",
       "</style>\n",
       "<table border=\"1\" class=\"dataframe\">\n",
       "  <thead>\n",
       "    <tr style=\"text-align: right;\">\n",
       "      <th></th>\n",
       "      <th>area</th>\n",
       "      <th>_id</th>\n",
       "      <th>totalPrice</th>\n",
       "      <th>unitPrice</th>\n",
       "    </tr>\n",
       "  </thead>\n",
       "  <tbody>\n",
       "    <tr>\n",
       "      <th>count</th>\n",
       "      <td>3000.000000</td>\n",
       "      <td>3.000000e+03</td>\n",
       "      <td>3000.000000</td>\n",
       "      <td>3000.000000</td>\n",
       "    </tr>\n",
       "    <tr>\n",
       "      <th>mean</th>\n",
       "      <td>97.183177</td>\n",
       "      <td>1.011176e+11</td>\n",
       "      <td>165.913633</td>\n",
       "      <td>15950.192667</td>\n",
       "    </tr>\n",
       "    <tr>\n",
       "      <th>std</th>\n",
       "      <td>41.354313</td>\n",
       "      <td>4.914710e+04</td>\n",
       "      <td>148.927421</td>\n",
       "      <td>6827.146937</td>\n",
       "    </tr>\n",
       "    <tr>\n",
       "      <th>min</th>\n",
       "      <td>10.000000</td>\n",
       "      <td>1.011175e+11</td>\n",
       "      <td>5.000000</td>\n",
       "      <td>2597.000000</td>\n",
       "    </tr>\n",
       "    <tr>\n",
       "      <th>25%</th>\n",
       "      <td>73.282500</td>\n",
       "      <td>1.011176e+11</td>\n",
       "      <td>90.000000</td>\n",
       "      <td>11222.250000</td>\n",
       "    </tr>\n",
       "    <tr>\n",
       "      <th>50%</th>\n",
       "      <td>93.260000</td>\n",
       "      <td>1.011176e+11</td>\n",
       "      <td>136.500000</td>\n",
       "      <td>14981.500000</td>\n",
       "    </tr>\n",
       "    <tr>\n",
       "      <th>75%</th>\n",
       "      <td>119.782500</td>\n",
       "      <td>1.011177e+11</td>\n",
       "      <td>195.000000</td>\n",
       "      <td>19091.000000</td>\n",
       "    </tr>\n",
       "    <tr>\n",
       "      <th>max</th>\n",
       "      <td>450.770000</td>\n",
       "      <td>1.011177e+11</td>\n",
       "      <td>3200.000000</td>\n",
       "      <td>99878.000000</td>\n",
       "    </tr>\n",
       "  </tbody>\n",
       "</table>\n",
       "</div>"
      ],
      "text/plain": [
       "              area           _id   totalPrice     unitPrice\n",
       "count  3000.000000  3.000000e+03  3000.000000   3000.000000\n",
       "mean     97.183177  1.011176e+11   165.913633  15950.192667\n",
       "std      41.354313  4.914710e+04   148.927421   6827.146937\n",
       "min      10.000000  1.011175e+11     5.000000   2597.000000\n",
       "25%      73.282500  1.011176e+11    90.000000  11222.250000\n",
       "50%      93.260000  1.011176e+11   136.500000  14981.500000\n",
       "75%     119.782500  1.011177e+11   195.000000  19091.000000\n",
       "max     450.770000  1.011177e+11  3200.000000  99878.000000"
      ]
     },
     "metadata": {},
     "output_type": "display_data"
    }
   ],
   "source": [
    "display(raw_data.info(),\n",
    "      raw_data.describe())"
   ]
  },
  {
   "attachments": {},
   "cell_type": "markdown",
   "metadata": {},
   "source": [
    "* 目标变量: `totalprice` \n",
    "* `year`, `type`, `elevator` 缺失数据较多\n",
    "* `area` 极值偏离实际且极差较大"
   ]
  },
  {
   "attachments": {},
   "cell_type": "markdown",
   "metadata": {},
   "source": [
    "## `area` \n",
    "异常原因可能是数据中包含了车库、别墅等特殊房型，故将其排除"
   ]
  },
  {
   "cell_type": "code",
   "execution_count": 63,
   "metadata": {},
   "outputs": [
    {
     "data": {
      "text/plain": [
       "Text(0, 0.5, '面积')"
      ]
     },
     "execution_count": 63,
     "metadata": {},
     "output_type": "execute_result"
    },
    {
     "data": {
      "image/png": "[encoded data removed]",
      "text/plain": [
       "<Figure size 1296x360 with 2 Axes>"
      ]
     },
     "metadata": {
      "needs_background": "light"
     },
     "output_type": "display_data"
    }
   ],
   "source": [
    "f, [ax1,ax2] = plt.subplots(1, 2, figsize=(18, 5))\n",
    "sns.countplot(data=raw_data,y='usage',palette='Reds_d',ax=ax1)\n",
    "ax1.set_ylabel('房屋用途')\n",
    "ax1.set_xlabel('数量')\n",
    "\n",
    "data = raw_data[(raw_data['usage'] == '普通住宅') | (raw_data['usage'] == '商住两用') |\n",
    "                (raw_data['usage'] == '四合院')]\n",
    "sns.boxplot(data=data,y='area',ax=ax2)\n",
    "ax2.set_ylabel('面积')"
   ]
  },
  {
   "cell_type": "code",
   "execution_count": 70,
   "metadata": {},
   "outputs": [
    {
     "data": {
      "text/html": [
       "<div>\n",
       "<style scoped>\n",
       "    .dataframe tbody tr th:only-of-type {\n",
       "        vertical-align: middle;\n",
       "    }\n",
       "\n",
       "    .dataframe tbody tr th {\n",
       "        vertical-align: top;\n",
       "    }\n",
       "\n",
       "    .dataframe thead th {\n",
       "        text-align: right;\n",
       "    }\n",
       "</style>\n",
       "<table border=\"1\" class=\"dataframe\">\n",
       "  <thead>\n",
       "    <tr style=\"text-align: right;\">\n",
       "      <th></th>\n",
       "      <th>area</th>\n",
       "      <th>building</th>\n",
       "      <th>direction</th>\n",
       "      <th>elevator</th>\n",
       "      <th>floor</th>\n",
       "      <th>garden</th>\n",
       "      <th>heating</th>\n",
       "      <th>_id</th>\n",
       "      <th>layout</th>\n",
       "      <th>region</th>\n",
       "      <th>renovation</th>\n",
       "      <th>stairway</th>\n",
       "      <th>structure</th>\n",
       "      <th>totalPrice</th>\n",
       "      <th>type</th>\n",
       "      <th>unitPrice</th>\n",
       "      <th>usage</th>\n",
       "      <th>year</th>\n",
       "    </tr>\n",
       "  </thead>\n",
       "  <tbody>\n",
       "    <tr>\n",
       "      <th>2167</th>\n",
       "      <td>403.44</td>\n",
       "      <td>NaN</td>\n",
       "      <td>南 北</td>\n",
       "      <td>NaN</td>\n",
       "      <td>低楼层 (共3层)</td>\n",
       "      <td>长安</td>\n",
       "      <td>NaN</td>\n",
       "      <td>101117604283</td>\n",
       "      <td>5室3厅1厨4卫</td>\n",
       "      <td>长安</td>\n",
       "      <td>简装</td>\n",
       "      <td>一梯一户</td>\n",
       "      <td>未知结构</td>\n",
       "      <td>1150.0</td>\n",
       "      <td>复式</td>\n",
       "      <td>28505.0</td>\n",
       "      <td>普通住宅</td>\n",
       "      <td>满两年</td>\n",
       "    </tr>\n",
       "  </tbody>\n",
       "</table>\n",
       "</div>"
      ],
      "text/plain": [
       "        area building direction elevator      floor garden heating  \\\n",
       "2167  403.44      NaN       南 北      NaN  低楼层 (共3层)     长安     NaN   \n",
       "\n",
       "               _id    layout region renovation stairway structure  totalPrice  \\\n",
       "2167  101117604283  5室3厅1厨4卫     长安         简装     一梯一户      未知结构      1150.0   \n",
       "\n",
       "     type  unitPrice usage year  \n",
       "2167   复式    28505.0  普通住宅  满两年  "
      ]
     },
     "execution_count": 70,
     "metadata": {},
     "output_type": "execute_result"
    }
   ],
   "source": [
    "data[data['area']>400]"
   ]
  },
  {
   "attachments": {},
   "cell_type": "markdown",
   "metadata": {},
   "source": [
    "手动查询发现，因为信息登记不规范，id:101117604283仍是独栋别墅，单独去除"
   ]
  },
  {
   "cell_type": "code",
   "execution_count": 82,
   "metadata": {},
   "outputs": [
    {
     "name": "stderr",
     "output_type": "stream",
     "text": [
      "C:\\Users\\19317\\AppData\\Local\\Temp\\ipykernel_16420\\3444213790.py:1: SettingWithCopyWarning: \n",
      "A value is trying to be set on a copy of a slice from a DataFrame\n",
      "\n",
      "See the caveats in the documentation: https://pandas.pydata.org/pandas-docs/stable/user_guide/indexing.html#returning-a-view-versus-a-copy\n",
      "  data.drop(data.query('_id ==101117604283').index,inplace=True)\n"
     ]
    },
    {
     "data": {
      "text/html": [
       "<div>\n",
       "<style scoped>\n",
       "    .dataframe tbody tr th:only-of-type {\n",
       "        vertical-align: middle;\n",
       "    }\n",
       "\n",
       "    .dataframe tbody tr th {\n",
       "        vertical-align: top;\n",
       "    }\n",
       "\n",
       "    .dataframe thead th {\n",
       "        text-align: right;\n",
       "    }\n",
       "</style>\n",
       "<table border=\"1\" class=\"dataframe\">\n",
       "  <thead>\n",
       "    <tr style=\"text-align: right;\">\n",
       "      <th></th>\n",
       "      <th>area</th>\n",
       "      <th>building</th>\n",
       "      <th>direction</th>\n",
       "      <th>elevator</th>\n",
       "      <th>floor</th>\n",
       "      <th>garden</th>\n",
       "      <th>heating</th>\n",
       "      <th>_id</th>\n",
       "      <th>layout</th>\n",
       "      <th>region</th>\n",
       "      <th>renovation</th>\n",
       "      <th>stairway</th>\n",
       "      <th>structure</th>\n",
       "      <th>totalPrice</th>\n",
       "      <th>type</th>\n",
       "      <th>unitPrice</th>\n",
       "      <th>usage</th>\n",
       "      <th>year</th>\n",
       "    </tr>\n",
       "  </thead>\n",
       "  <tbody>\n",
       "  </tbody>\n",
       "</table>\n",
       "</div>"
      ],
      "text/plain": [
       "Empty DataFrame\n",
       "Columns: [area, building, direction, elevator, floor, garden, heating, _id, layout, region, renovation, stairway, structure, totalPrice, type, unitPrice, usage, year]\n",
       "Index: []"
      ]
     },
     "execution_count": 82,
     "metadata": {},
     "output_type": "execute_result"
    }
   ],
   "source": [
    "data.drop(data.query('_id ==101117604283').index,inplace=True)\n",
    "data[data['area']>400]"
   ]
  },
  {
   "cell_type": "code",
   "execution_count": 53,
   "metadata": {},
   "outputs": [
    {
     "data": {
      "text/plain": [
       "南 北            1263\n",
       "南               775\n",
       "北               150\n",
       "东南              124\n",
       "西南               98\n",
       "东                87\n",
       "西                74\n",
       "西北               45\n",
       "东北               36\n",
       "北 南              32\n",
       "东 南              25\n",
       "东 西              23\n",
       "南 西              17\n",
       "东 北              14\n",
       "东南 南             14\n",
       "西 北              14\n",
       "南 西南             10\n",
       "南 西 北            10\n",
       "东 南 北             8\n",
       "西 南               5\n",
       "南 东南              4\n",
       "东 东南              4\n",
       "北 东北              3\n",
       "南 西北              3\n",
       "南 北 西             2\n",
       "东南 北              2\n",
       "东 南 西             2\n",
       "西 南 北             2\n",
       "西南 西              2\n",
       "东 西 北             2\n",
       "东南 东              2\n",
       "西北 东北             1\n",
       "北 东               1\n",
       "南 北 东南            1\n",
       "西北 北              1\n",
       "西 东               1\n",
       "东南 西              1\n",
       "东 东南 南 西南 西       1\n",
       "北 东 西             1\n",
       "东南 西南             1\n",
       "东 东南 北            1\n",
       "东 东南 南            1\n",
       "南 东               1\n",
       "北 西北              1\n",
       "西南 北              1\n",
       "东南 南 北            1\n",
       "Name: direction, dtype: int64"
      ]
     },
     "execution_count": 53,
     "metadata": {},
     "output_type": "execute_result"
    }
   ],
   "source": [
    "data['direction'].value_counts(dropna=False)"
   ]
  },
  {
   "cell_type": "code",
   "execution_count": 52,
   "metadata": {},
   "outputs": [
    {
     "data": {
      "text/plain": [
       "板塔结合    1356\n",
       "板楼       941\n",
       "塔楼       430\n",
       "NaN      126\n",
       "平房        14\n",
       "Name: building, dtype: int64"
      ]
     },
     "execution_count": 52,
     "metadata": {},
     "output_type": "execute_result"
    }
   ],
   "source": [
    "data['building'].value_counts(dropna=False)"
   ]
  },
  {
   "attachments": {},
   "cell_type": "markdown",
   "metadata": {},
   "source": [
    "### `layout`\n",
    "链家的信息登记较规范，格式为“X室X厅X厨X卫”，无缺失值\\\n",
    "因此用正则表达式提取即可"
   ]
  },
  {
   "cell_type": "code",
   "execution_count": 84,
   "metadata": {},
   "outputs": [
    {
     "name": "stderr",
     "output_type": "stream",
     "text": [
      "C:\\Users\\19317\\AppData\\Local\\Temp\\ipykernel_16420\\3977827848.py:1: SettingWithCopyWarning: \n",
      "A value is trying to be set on a copy of a slice from a DataFrame.\n",
      "Try using .loc[row_indexer,col_indexer] = value instead\n",
      "\n",
      "See the caveats in the documentation: https://pandas.pydata.org/pandas-docs/stable/user_guide/indexing.html#returning-a-view-versus-a-copy\n",
      "  data[['layout_room','layout_hall','layout_kitchen','layout_bathroom']]=\\\n",
      "C:\\Users\\19317\\AppData\\Local\\Temp\\ipykernel_16420\\3977827848.py:1: SettingWithCopyWarning: \n",
      "A value is trying to be set on a copy of a slice from a DataFrame.\n",
      "Try using .loc[row_indexer,col_indexer] = value instead\n",
      "\n",
      "See the caveats in the documentation: https://pandas.pydata.org/pandas-docs/stable/user_guide/indexing.html#returning-a-view-versus-a-copy\n",
      "  data[['layout_room','layout_hall','layout_kitchen','layout_bathroom']]=\\\n",
      "C:\\Users\\19317\\AppData\\Local\\Temp\\ipykernel_16420\\3977827848.py:1: SettingWithCopyWarning: \n",
      "A value is trying to be set on a copy of a slice from a DataFrame.\n",
      "Try using .loc[row_indexer,col_indexer] = value instead\n",
      "\n",
      "See the caveats in the documentation: https://pandas.pydata.org/pandas-docs/stable/user_guide/indexing.html#returning-a-view-versus-a-copy\n",
      "  data[['layout_room','layout_hall','layout_kitchen','layout_bathroom']]=\\\n",
      "C:\\Users\\19317\\AppData\\Local\\Temp\\ipykernel_16420\\3977827848.py:1: SettingWithCopyWarning: \n",
      "A value is trying to be set on a copy of a slice from a DataFrame.\n",
      "Try using .loc[row_indexer,col_indexer] = value instead\n",
      "\n",
      "See the caveats in the documentation: https://pandas.pydata.org/pandas-docs/stable/user_guide/indexing.html#returning-a-view-versus-a-copy\n",
      "  data[['layout_room','layout_hall','layout_kitchen','layout_bathroom']]=\\\n"
     ]
    }
   ],
   "source": [
    "data[['layout_room','layout_hall','layout_kitchen','layout_bathroom']]=\\\n",
    "    data['layout'].str.extract(r'(\\d*)室(\\d*)厅+(\\d*)厨(\\d*)卫+').astype('int')"
   ]
  },
  {
   "attachments": {},
   "cell_type": "markdown",
   "metadata": {},
   "source": [
    "### `elevator`\n",
    "缺失值处理\\\n",
    "&ensp;&ensp;&ensp;&ensp;填充&ensp;&ensp;依据：根据房屋所在楼的高度，若高于6层一般会加装电梯\\\n",
    "哑变量处理"
   ]
  },
  {
   "cell_type": "code",
   "execution_count": 17,
   "metadata": {},
   "outputs": [
    {
     "name": "stderr",
     "output_type": "stream",
     "text": [
      "C:\\Users\\19317\\AppData\\Local\\Temp\\ipykernel_16420\\3322760788.py:1: SettingWithCopyWarning: \n",
      "A value is trying to be set on a copy of a slice from a DataFrame.\n",
      "Try using .loc[row_indexer,col_indexer] = value instead\n",
      "\n",
      "See the caveats in the documentation: https://pandas.pydata.org/pandas-docs/stable/user_guide/indexing.html#returning-a-view-versus-a-copy\n",
      "  data['building_height'] = data['floor'].str.extract(r'共(\\d+)层').astype('int')\n",
      "C:\\Users\\19317\\AppData\\Local\\Temp\\ipykernel_16420\\3322760788.py:6: SettingWithCopyWarning: \n",
      "A value is trying to be set on a copy of a slice from a DataFrame.\n",
      "Try using .loc[row_indexer,col_indexer] = value instead\n",
      "\n",
      "See the caveats in the documentation: https://pandas.pydata.org/pandas-docs/stable/user_guide/indexing.html#returning-a-view-versus-a-copy\n",
      "  data['elevator'] = data['elevator'].apply(lambda x: 1 if x == '有' else 0)\n"
     ]
    },
    {
     "data": {
      "text/plain": [
       "1    2530\n",
       "0     337\n",
       "Name: elevator, dtype: int64"
      ]
     },
     "execution_count": 17,
     "metadata": {},
     "output_type": "execute_result"
    }
   ],
   "source": [
    "data['building_height'] = data['floor'].str.extract(r'共(\\d+)层').astype('int')\n",
    "data.loc[(data['elevator'].isnull()) & (data['building_height'] > 6),\n",
    "         'elevator'] = '有'\n",
    "data.loc[(data['elevator'].isnull()) & (data['building_height'] > 6),\n",
    "         'elevator'] = '无'\n",
    "data['elevator'] = data['elevator'].apply(lambda x: 1 if x == '有' else 0)\n",
    "data['elevator'].value_counts()"
   ]
  },
  {
   "attachments": {},
   "cell_type": "markdown",
   "metadata": {},
   "source": [
    "## Insight"
   ]
  },
  {
   "cell_type": "code",
   "execution_count": 26,
   "metadata": {},
   "outputs": [
    {
     "data": {
      "image/png": "[encoded data removed]",
      "text/plain": [
       "<Figure size 1440x1296 with 3 Axes>"
      ]
     },
     "metadata": {
      "needs_background": "light"
     },
     "output_type": "display_data"
    }
   ],
   "source": [
    "regionPrice=data.groupby('region')['unitPrice']\\\n",
    "    .mean().sort_values(ascending=False).to_frame().reset_index()\n",
    "regionCount=data.groupby('region')['_id']\\\n",
    "    .count().sort_values(ascending=False).to_frame().reset_index()\n",
    "\n",
    "f, [ax1, ax2, ax3] = plt.subplots(3, 1, figsize=(20, 18))\n",
    "bar1=sns.barplot(x='region',y='unitPrice',palette=\"Blues_d\",\\\n",
    "    data=regionPrice,ax=ax1)\n",
    "ax1.bar_label(bar1.containers[0])\n",
    "ax1.set_xlabel('区域')\n",
    "ax1.set_ylabel('单价')\n",
    "ax1.set_title('西安各区二手房每平米单价')\n",
    "\n",
    "bar2=sns.barplot(x='region',y='_id',palette=\"Greens_d\",\\\n",
    "    data=regionCount,ax=ax2)\n",
    "ax2.bar_label(bar2.containers[0])\n",
    "ax2.set_xlabel('区域')\n",
    "ax2.set_ylabel('数量')\n",
    "ax2.set_title('西安各区二手房数量')\n",
    "\n",
    "sns.boxplot(x='region', y='totalPrice', data=data, ax=ax3)\n",
    "ax3.set_xlabel('区域')\n",
    "ax3.set_ylabel('房屋总价')\n",
    "ax3.set_title('西安各区二手房房屋总价')\n",
    "\n",
    "plt.show()"
   ]
  },
  {
   "cell_type": "code",
   "execution_count": null,
   "metadata": {},
   "outputs": [],
   "source": []
  }
 ],
 "metadata": {
  "kernelspec": {
   "display_name": "base",
   "language": "python",
   "name": "python3"
  },
  "language_info": {
   "codemirror_mode": {
    "name": "ipython",
    "version": 3
   },
   "file_extension": ".py",
   "mimetype": "text/x-python",
   "name": "python",
   "nbconvert_exporter": "python",
   "pygments_lexer": "ipython3",
   "version": "3.9.12"
  },
  "orig_nbformat": 4,
  "vscode": {
   "interpreter": {
    "hash": "0f9f03cc5bc07f8cfd409a369e7e587dcf0118f090deeee7c758334e0412c621"
   }
  }
 },
 "nbformat": 4,
 "nbformat_minor": 2
}
