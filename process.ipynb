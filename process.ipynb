{
 "cells": [
  {
   "attachments": {},
   "cell_type": "markdown",
   "metadata": {},
   "source": [
    "# 数据预处理 & 特征工程"
   ]
  },
  {
   "attachments": {},
   "cell_type": "markdown",
   "metadata": {},
   "source": [
    "## Import"
   ]
  },
  {
   "cell_type": "code",
   "execution_count": 187,
   "metadata": {},
   "outputs": [],
   "source": [
    "import pandas as pd\n",
    "import numpy as np\n",
    "import matplotlib.pyplot as plt\n",
    "import seaborn as sns\n",
    "\n",
    "plt.rcParams['font.sans-serif'] = 'SimHei'\n",
    "plt.rcParams['axes.unicode_minus'] = False"
   ]
  },
  {
   "cell_type": "code",
   "execution_count": 188,
   "metadata": {},
   "outputs": [
    {
     "data": {
      "text/html": [
       "<div>\n",
       "<style scoped>\n",
       "    .dataframe tbody tr th:only-of-type {\n",
       "        vertical-align: middle;\n",
       "    }\n",
       "\n",
       "    .dataframe tbody tr th {\n",
       "        vertical-align: top;\n",
       "    }\n",
       "\n",
       "    .dataframe thead th {\n",
       "        text-align: right;\n",
       "    }\n",
       "</style>\n",
       "<table border=\"1\" class=\"dataframe\">\n",
       "  <thead>\n",
       "    <tr style=\"text-align: right;\">\n",
       "      <th></th>\n",
       "      <th>area</th>\n",
       "      <th>building</th>\n",
       "      <th>direction</th>\n",
       "      <th>elevator</th>\n",
       "      <th>floor</th>\n",
       "      <th>garden</th>\n",
       "      <th>heating</th>\n",
       "      <th>_id</th>\n",
       "      <th>layout</th>\n",
       "      <th>region</th>\n",
       "      <th>renovation</th>\n",
       "      <th>stairway</th>\n",
       "      <th>structure</th>\n",
       "      <th>totalPrice</th>\n",
       "      <th>type</th>\n",
       "      <th>unitPrice</th>\n",
       "      <th>usage</th>\n",
       "      <th>year</th>\n",
       "    </tr>\n",
       "  </thead>\n",
       "  <tbody>\n",
       "    <tr>\n",
       "      <th>0</th>\n",
       "      <td>93.00</td>\n",
       "      <td>板塔结合</td>\n",
       "      <td>南</td>\n",
       "      <td>有</td>\n",
       "      <td>高楼层 (共30层)</td>\n",
       "      <td>长安</td>\n",
       "      <td>集中供暖</td>\n",
       "      <td>101117686545</td>\n",
       "      <td>3室2厅1厨1卫</td>\n",
       "      <td>长安</td>\n",
       "      <td>其他</td>\n",
       "      <td>两梯四户</td>\n",
       "      <td>钢混结构</td>\n",
       "      <td>165.0</td>\n",
       "      <td>NaN</td>\n",
       "      <td>17742.0</td>\n",
       "      <td>普通住宅</td>\n",
       "      <td>NaN</td>\n",
       "    </tr>\n",
       "    <tr>\n",
       "      <th>1</th>\n",
       "      <td>129.00</td>\n",
       "      <td>板塔结合</td>\n",
       "      <td>南 北</td>\n",
       "      <td>有</td>\n",
       "      <td>中楼层 (共33层)</td>\n",
       "      <td>长安</td>\n",
       "      <td>集中供暖</td>\n",
       "      <td>101117686563</td>\n",
       "      <td>3室1厅1厨2卫</td>\n",
       "      <td>长安</td>\n",
       "      <td>其他</td>\n",
       "      <td>两梯四户</td>\n",
       "      <td>未知结构</td>\n",
       "      <td>230.0</td>\n",
       "      <td>平层</td>\n",
       "      <td>17830.0</td>\n",
       "      <td>普通住宅</td>\n",
       "      <td>NaN</td>\n",
       "    </tr>\n",
       "    <tr>\n",
       "      <th>2</th>\n",
       "      <td>99.16</td>\n",
       "      <td>板塔结合</td>\n",
       "      <td>南 北</td>\n",
       "      <td>有</td>\n",
       "      <td>中楼层 (共31层)</td>\n",
       "      <td>曲江</td>\n",
       "      <td>集中供暖</td>\n",
       "      <td>101117686600</td>\n",
       "      <td>3室2厅1厨1卫</td>\n",
       "      <td>雁塔</td>\n",
       "      <td>其他</td>\n",
       "      <td>两梯四户</td>\n",
       "      <td>钢混结构</td>\n",
       "      <td>195.0</td>\n",
       "      <td>平层</td>\n",
       "      <td>19666.0</td>\n",
       "      <td>普通住宅</td>\n",
       "      <td>NaN</td>\n",
       "    </tr>\n",
       "    <tr>\n",
       "      <th>3</th>\n",
       "      <td>99.00</td>\n",
       "      <td>塔楼</td>\n",
       "      <td>南 北</td>\n",
       "      <td>有</td>\n",
       "      <td>高楼层 (共26层)</td>\n",
       "      <td>曲江</td>\n",
       "      <td>集中供暖</td>\n",
       "      <td>101117686611</td>\n",
       "      <td>3室2厅1厨1卫</td>\n",
       "      <td>雁塔</td>\n",
       "      <td>其他</td>\n",
       "      <td>三梯八户</td>\n",
       "      <td>钢混结构</td>\n",
       "      <td>149.0</td>\n",
       "      <td>NaN</td>\n",
       "      <td>15051.0</td>\n",
       "      <td>普通住宅</td>\n",
       "      <td>NaN</td>\n",
       "    </tr>\n",
       "    <tr>\n",
       "      <th>4</th>\n",
       "      <td>77.00</td>\n",
       "      <td>板塔结合</td>\n",
       "      <td>南 北</td>\n",
       "      <td>有</td>\n",
       "      <td>中楼层 (共34层)</td>\n",
       "      <td>曲江</td>\n",
       "      <td>集中供暖</td>\n",
       "      <td>101117686628</td>\n",
       "      <td>2室1厅1厨1卫</td>\n",
       "      <td>雁塔</td>\n",
       "      <td>其他</td>\n",
       "      <td>两梯四户</td>\n",
       "      <td>钢混结构</td>\n",
       "      <td>170.0</td>\n",
       "      <td>NaN</td>\n",
       "      <td>22078.0</td>\n",
       "      <td>普通住宅</td>\n",
       "      <td>NaN</td>\n",
       "    </tr>\n",
       "  </tbody>\n",
       "</table>\n",
       "</div>"
      ],
      "text/plain": [
       "     area building direction elevator       floor garden heating  \\\n",
       "0   93.00     板塔结合         南        有  高楼层 (共30层)     长安    集中供暖   \n",
       "1  129.00     板塔结合       南 北        有  中楼层 (共33层)     长安    集中供暖   \n",
       "2   99.16     板塔结合       南 北        有  中楼层 (共31层)     曲江    集中供暖   \n",
       "3   99.00       塔楼       南 北        有  高楼层 (共26层)     曲江    集中供暖   \n",
       "4   77.00     板塔结合       南 北        有  中楼层 (共34层)     曲江    集中供暖   \n",
       "\n",
       "            _id    layout region renovation stairway structure  totalPrice  \\\n",
       "0  101117686545  3室2厅1厨1卫     长安         其他     两梯四户      钢混结构       165.0   \n",
       "1  101117686563  3室1厅1厨2卫     长安         其他     两梯四户      未知结构       230.0   \n",
       "2  101117686600  3室2厅1厨1卫     雁塔         其他     两梯四户      钢混结构       195.0   \n",
       "3  101117686611  3室2厅1厨1卫     雁塔         其他     三梯八户      钢混结构       149.0   \n",
       "4  101117686628  2室1厅1厨1卫     雁塔         其他     两梯四户      钢混结构       170.0   \n",
       "\n",
       "  type  unitPrice usage year  \n",
       "0  NaN    17742.0  普通住宅  NaN  \n",
       "1   平层    17830.0  普通住宅  NaN  \n",
       "2   平层    19666.0  普通住宅  NaN  \n",
       "3  NaN    15051.0  普通住宅  NaN  \n",
       "4  NaN    22078.0  普通住宅  NaN  "
      ]
     },
     "execution_count": 188,
     "metadata": {},
     "output_type": "execute_result"
    }
   ],
   "source": [
    "fp = 'scrapy\\LianJiaSpider\\data.csv'\n",
    "raw_data = pd.read_csv(fp)\n",
    "raw_data.head()"
   ]
  },
  {
   "attachments": {},
   "cell_type": "markdown",
   "metadata": {},
   "source": [
    "## Overview"
   ]
  },
  {
   "attachments": {},
   "cell_type": "markdown",
   "metadata": {},
   "source": [
    "### overview"
   ]
  },
  {
   "cell_type": "code",
   "execution_count": 189,
   "metadata": {},
   "outputs": [
    {
     "name": "stdout",
     "output_type": "stream",
     "text": [
      "<class 'pandas.core.frame.DataFrame'>\n",
      "RangeIndex: 3000 entries, 0 to 2999\n",
      "Data columns (total 18 columns):\n",
      " #   Column      Non-Null Count  Dtype  \n",
      "---  ------      --------------  -----  \n",
      " 0   area        3000 non-null   float64\n",
      " 1   building    2753 non-null   object \n",
      " 2   direction   3000 non-null   object \n",
      " 3   elevator    2466 non-null   object \n",
      " 4   floor       3000 non-null   object \n",
      " 5   garden      3000 non-null   object \n",
      " 6   heating     2784 non-null   object \n",
      " 7   _id         3000 non-null   int64  \n",
      " 8   layout      2891 non-null   object \n",
      " 9   region      3000 non-null   object \n",
      " 10  renovation  2891 non-null   object \n",
      " 11  stairway    2880 non-null   object \n",
      " 12  structure   2891 non-null   object \n",
      " 13  totalPrice  3000 non-null   float64\n",
      " 14  type        2212 non-null   object \n",
      " 15  unitPrice   3000 non-null   float64\n",
      " 16  usage       3000 non-null   object \n",
      " 17  year        2170 non-null   object \n",
      "dtypes: float64(3), int64(1), object(14)\n",
      "memory usage: 422.0+ KB\n"
     ]
    },
    {
     "data": {
      "text/plain": [
       "None"
      ]
     },
     "metadata": {},
     "output_type": "display_data"
    },
    {
     "data": {
      "text/html": [
       "<div>\n",
       "<style scoped>\n",
       "    .dataframe tbody tr th:only-of-type {\n",
       "        vertical-align: middle;\n",
       "    }\n",
       "\n",
       "    .dataframe tbody tr th {\n",
       "        vertical-align: top;\n",
       "    }\n",
       "\n",
       "    .dataframe thead th {\n",
       "        text-align: right;\n",
       "    }\n",
       "</style>\n",
       "<table border=\"1\" class=\"dataframe\">\n",
       "  <thead>\n",
       "    <tr style=\"text-align: right;\">\n",
       "      <th></th>\n",
       "      <th>area</th>\n",
       "      <th>_id</th>\n",
       "      <th>totalPrice</th>\n",
       "      <th>unitPrice</th>\n",
       "    </tr>\n",
       "  </thead>\n",
       "  <tbody>\n",
       "    <tr>\n",
       "      <th>count</th>\n",
       "      <td>3000.000000</td>\n",
       "      <td>3.000000e+03</td>\n",
       "      <td>3000.000000</td>\n",
       "      <td>3000.000000</td>\n",
       "    </tr>\n",
       "    <tr>\n",
       "      <th>mean</th>\n",
       "      <td>97.183177</td>\n",
       "      <td>1.011176e+11</td>\n",
       "      <td>165.913633</td>\n",
       "      <td>15950.192667</td>\n",
       "    </tr>\n",
       "    <tr>\n",
       "      <th>std</th>\n",
       "      <td>41.354313</td>\n",
       "      <td>4.914710e+04</td>\n",
       "      <td>148.927421</td>\n",
       "      <td>6827.146937</td>\n",
       "    </tr>\n",
       "    <tr>\n",
       "      <th>min</th>\n",
       "      <td>10.000000</td>\n",
       "      <td>1.011175e+11</td>\n",
       "      <td>5.000000</td>\n",
       "      <td>2597.000000</td>\n",
       "    </tr>\n",
       "    <tr>\n",
       "      <th>25%</th>\n",
       "      <td>73.282500</td>\n",
       "      <td>1.011176e+11</td>\n",
       "      <td>90.000000</td>\n",
       "      <td>11222.250000</td>\n",
       "    </tr>\n",
       "    <tr>\n",
       "      <th>50%</th>\n",
       "      <td>93.260000</td>\n",
       "      <td>1.011176e+11</td>\n",
       "      <td>136.500000</td>\n",
       "      <td>14981.500000</td>\n",
       "    </tr>\n",
       "    <tr>\n",
       "      <th>75%</th>\n",
       "      <td>119.782500</td>\n",
       "      <td>1.011177e+11</td>\n",
       "      <td>195.000000</td>\n",
       "      <td>19091.000000</td>\n",
       "    </tr>\n",
       "    <tr>\n",
       "      <th>max</th>\n",
       "      <td>450.770000</td>\n",
       "      <td>1.011177e+11</td>\n",
       "      <td>3200.000000</td>\n",
       "      <td>99878.000000</td>\n",
       "    </tr>\n",
       "  </tbody>\n",
       "</table>\n",
       "</div>"
      ],
      "text/plain": [
       "              area           _id   totalPrice     unitPrice\n",
       "count  3000.000000  3.000000e+03  3000.000000   3000.000000\n",
       "mean     97.183177  1.011176e+11   165.913633  15950.192667\n",
       "std      41.354313  4.914710e+04   148.927421   6827.146937\n",
       "min      10.000000  1.011175e+11     5.000000   2597.000000\n",
       "25%      73.282500  1.011176e+11    90.000000  11222.250000\n",
       "50%      93.260000  1.011176e+11   136.500000  14981.500000\n",
       "75%     119.782500  1.011177e+11   195.000000  19091.000000\n",
       "max     450.770000  1.011177e+11  3200.000000  99878.000000"
      ]
     },
     "metadata": {},
     "output_type": "display_data"
    },
    {
     "name": "stdout",
     "output_type": "stream",
     "text": [
      "存在缺失值的样本数:  1307\n"
     ]
    }
   ],
   "source": [
    "display(raw_data.info(),\n",
    "      raw_data.describe())\n",
    "\n",
    "missing=raw_data[raw_data.isnull().T.any()].shape[0]\n",
    "print('存在缺失值的样本数: ',missing)"
   ]
  },
  {
   "cell_type": "code",
   "execution_count": 190,
   "metadata": {},
   "outputs": [
    {
     "name": "stdout",
     "output_type": "stream",
     "text": [
      "各特征的缺失值个数：\n",
      " year          830\n",
      "type          788\n",
      "elevator      534\n",
      "building      247\n",
      "heating       216\n",
      "stairway      120\n",
      "structure     109\n",
      "layout        109\n",
      "renovation    109\n",
      "usage           0\n",
      "unitPrice       0\n",
      "totalPrice      0\n",
      "area            0\n",
      "_id             0\n",
      "garden          0\n",
      "floor           0\n",
      "direction       0\n",
      "region          0\n",
      "dtype: int64\n"
     ]
    }
   ],
   "source": [
    "before_missing=raw_data.isnull().sum().sort_values(ascending=False)\n",
    "print('各特征的缺失值个数：\\n',before_missing)\n",
    "before_missing=before_missing[before_missing>0]"
   ]
  },
  {
   "attachments": {},
   "cell_type": "markdown",
   "metadata": {},
   "source": [
    "* 目标变量: `totalprice` \n",
    "* `year`, `type`, `elevator` 缺失数据较多\n",
    "* `area` 极值偏离实际且极差较大"
   ]
  },
  {
   "attachments": {},
   "cell_type": "markdown",
   "metadata": {},
   "source": [
    "### `area` \n",
    "异常原因可能是数据中包含了车库、别墅等特殊房型，故将其排除"
   ]
  },
  {
   "cell_type": "code",
   "execution_count": 191,
   "metadata": {},
   "outputs": [
    {
     "data": {
      "image/png": "[encoded data removed]",
      "text/plain": [
       "<Figure size 1080x360 with 2 Axes>"
      ]
     },
     "metadata": {
      "needs_background": "light"
     },
     "output_type": "display_data"
    }
   ],
   "source": [
    "f, [ax1,ax2] = plt.subplots(1, 2, figsize=(15, 5))\n",
    "usage_bar=sns.countplot(data=raw_data,y='usage',palette='Reds_d',ax=ax1)\n",
    "ax1.bar_label(usage_bar.containers[0])\n",
    "ax1.set_ylabel('房屋用途')\n",
    "ax1.set_xlabel('数量')\n",
    "\n",
    "data = raw_data[(raw_data['usage'] == '普通住宅') | (raw_data['usage'] == '商住两用') |\n",
    "                (raw_data['usage'] == '四合院')].copy()\n",
    "sns.boxplot(data=data,y='area',ax=ax2)\n",
    "ax2.set_ylabel('面积')\n",
    "plt.savefig('./img/area_usage.eps',\\\n",
    "    format='eps',bbox_inches='tight',pad_inches=0.0)\n",
    "plt.show()"
   ]
  },
  {
   "cell_type": "code",
   "execution_count": 192,
   "metadata": {},
   "outputs": [
    {
     "data": {
      "text/html": [
       "<div>\n",
       "<style scoped>\n",
       "    .dataframe tbody tr th:only-of-type {\n",
       "        vertical-align: middle;\n",
       "    }\n",
       "\n",
       "    .dataframe tbody tr th {\n",
       "        vertical-align: top;\n",
       "    }\n",
       "\n",
       "    .dataframe thead th {\n",
       "        text-align: right;\n",
       "    }\n",
       "</style>\n",
       "<table border=\"1\" class=\"dataframe\">\n",
       "  <thead>\n",
       "    <tr style=\"text-align: right;\">\n",
       "      <th></th>\n",
       "      <th>area</th>\n",
       "      <th>building</th>\n",
       "      <th>direction</th>\n",
       "      <th>elevator</th>\n",
       "      <th>floor</th>\n",
       "      <th>garden</th>\n",
       "      <th>heating</th>\n",
       "      <th>_id</th>\n",
       "      <th>layout</th>\n",
       "      <th>region</th>\n",
       "      <th>renovation</th>\n",
       "      <th>stairway</th>\n",
       "      <th>structure</th>\n",
       "      <th>totalPrice</th>\n",
       "      <th>type</th>\n",
       "      <th>unitPrice</th>\n",
       "      <th>usage</th>\n",
       "      <th>year</th>\n",
       "    </tr>\n",
       "  </thead>\n",
       "  <tbody>\n",
       "    <tr>\n",
       "      <th>2167</th>\n",
       "      <td>403.44</td>\n",
       "      <td>NaN</td>\n",
       "      <td>南 北</td>\n",
       "      <td>NaN</td>\n",
       "      <td>低楼层 (共3层)</td>\n",
       "      <td>长安</td>\n",
       "      <td>NaN</td>\n",
       "      <td>101117604283</td>\n",
       "      <td>5室3厅1厨4卫</td>\n",
       "      <td>长安</td>\n",
       "      <td>简装</td>\n",
       "      <td>一梯一户</td>\n",
       "      <td>未知结构</td>\n",
       "      <td>1150.0</td>\n",
       "      <td>复式</td>\n",
       "      <td>28505.0</td>\n",
       "      <td>普通住宅</td>\n",
       "      <td>满两年</td>\n",
       "    </tr>\n",
       "  </tbody>\n",
       "</table>\n",
       "</div>"
      ],
      "text/plain": [
       "        area building direction elevator      floor garden heating  \\\n",
       "2167  403.44      NaN       南 北      NaN  低楼层 (共3层)     长安     NaN   \n",
       "\n",
       "               _id    layout region renovation stairway structure  totalPrice  \\\n",
       "2167  101117604283  5室3厅1厨4卫     长安         简装     一梯一户      未知结构      1150.0   \n",
       "\n",
       "     type  unitPrice usage year  \n",
       "2167   复式    28505.0  普通住宅  满两年  "
      ]
     },
     "execution_count": 192,
     "metadata": {},
     "output_type": "execute_result"
    }
   ],
   "source": [
    "data[data['area']>400]"
   ]
  },
  {
   "attachments": {},
   "cell_type": "markdown",
   "metadata": {},
   "source": [
    "手动查询发现，因为信息登记不规范，id: 101117604283仍是独栋别墅，单独去除"
   ]
  },
  {
   "cell_type": "code",
   "execution_count": 193,
   "metadata": {},
   "outputs": [
    {
     "data": {
      "text/html": [
       "<div>\n",
       "<style scoped>\n",
       "    .dataframe tbody tr th:only-of-type {\n",
       "        vertical-align: middle;\n",
       "    }\n",
       "\n",
       "    .dataframe tbody tr th {\n",
       "        vertical-align: top;\n",
       "    }\n",
       "\n",
       "    .dataframe thead th {\n",
       "        text-align: right;\n",
       "    }\n",
       "</style>\n",
       "<table border=\"1\" class=\"dataframe\">\n",
       "  <thead>\n",
       "    <tr style=\"text-align: right;\">\n",
       "      <th></th>\n",
       "      <th>area</th>\n",
       "      <th>building</th>\n",
       "      <th>direction</th>\n",
       "      <th>elevator</th>\n",
       "      <th>floor</th>\n",
       "      <th>garden</th>\n",
       "      <th>heating</th>\n",
       "      <th>_id</th>\n",
       "      <th>layout</th>\n",
       "      <th>region</th>\n",
       "      <th>renovation</th>\n",
       "      <th>stairway</th>\n",
       "      <th>structure</th>\n",
       "      <th>totalPrice</th>\n",
       "      <th>type</th>\n",
       "      <th>unitPrice</th>\n",
       "      <th>usage</th>\n",
       "      <th>year</th>\n",
       "    </tr>\n",
       "  </thead>\n",
       "  <tbody>\n",
       "  </tbody>\n",
       "</table>\n",
       "</div>"
      ],
      "text/plain": [
       "Empty DataFrame\n",
       "Columns: [area, building, direction, elevator, floor, garden, heating, _id, layout, region, renovation, stairway, structure, totalPrice, type, unitPrice, usage, year]\n",
       "Index: []"
      ]
     },
     "execution_count": 193,
     "metadata": {},
     "output_type": "execute_result"
    }
   ],
   "source": [
    "data.drop(data.query('_id ==101117604283').index,inplace=True)\n",
    "data[data['area']>400]"
   ]
  },
  {
   "attachments": {},
   "cell_type": "markdown",
   "metadata": {},
   "source": [
    "### `direction`\n",
    "`direction` 的数据较为杂乱，同一朝向出现多次，还有无空格和空格间隔交替出现的情况\\\n",
    "自定义 `sortDirect` 函数统一整理，并统一顺序"
   ]
  },
  {
   "cell_type": "code",
   "execution_count": 194,
   "metadata": {},
   "outputs": [
    {
     "data": {
      "text/plain": [
       "南 北            1262\n",
       "南               775\n",
       "北               150\n",
       "东南              124\n",
       "西南               98\n",
       "东                87\n",
       "西                74\n",
       "西北               45\n",
       "东北               36\n",
       "北 南              32\n",
       "东 南              25\n",
       "东 西              23\n",
       "南 西              17\n",
       "东 北              14\n",
       "东南 南             14\n",
       "西 北              14\n",
       "南 西南             10\n",
       "南 西 北            10\n",
       "东 南 北             8\n",
       "西 南               5\n",
       "南 东南              4\n",
       "东 东南              4\n",
       "北 东北              3\n",
       "南 西北              3\n",
       "南 北 西             2\n",
       "东南 北              2\n",
       "东 南 西             2\n",
       "西 南 北             2\n",
       "西南 西              2\n",
       "东 西 北             2\n",
       "东南 东              2\n",
       "西北 东北             1\n",
       "北 东               1\n",
       "南 北 东南            1\n",
       "西北 北              1\n",
       "西 东               1\n",
       "东南 西              1\n",
       "东 东南 南 西南 西       1\n",
       "北 东 西             1\n",
       "东南 西南             1\n",
       "东 东南 北            1\n",
       "东 东南 南            1\n",
       "南 东               1\n",
       "北 西北              1\n",
       "西南 北              1\n",
       "东南 南 北            1\n",
       "Name: direction, dtype: int64"
      ]
     },
     "execution_count": 194,
     "metadata": {},
     "output_type": "execute_result"
    }
   ],
   "source": [
    "data['direction'].value_counts(dropna=False)"
   ]
  },
  {
   "cell_type": "code",
   "execution_count": 195,
   "metadata": {},
   "outputs": [
    {
     "data": {
      "image/png": "[encoded data removed]",
      "text/plain": [
       "<Figure size 1080x1080 with 1 Axes>"
      ]
     },
     "metadata": {
      "needs_background": "light"
     },
     "output_type": "display_data"
    }
   ],
   "source": [
    "def sortDirect(x):\n",
    "    d_list1 = ['东','西','南','北']\n",
    "    d_list2 = ['东西','东南','东北','西南','西北','南北']\n",
    "    d_list3 = ['东西南','东西北','东南北','西南北']\n",
    "    d_list4 = ['东西南北']\n",
    "    x=x.replace(' ','')\n",
    "    d_set=set(x)\n",
    "    for d_list in [d_list4,d_list3,d_list2,d_list1]:\n",
    "        for d in d_list:\n",
    "            if set(d)==d_set:\n",
    "                return d\n",
    "\n",
    "data['direction']=data['direction'].apply(sortDirect)\n",
    "\n",
    "plt.figure(figsize=(15,15))\n",
    "direction_bar=sns.countplot(data=data,y='direction',palette='Reds_d')\n",
    "plt.bar_label(direction_bar.containers[0])\n",
    "plt.ylabel('房屋朝向')\n",
    "plt.xlabel('数量')\n",
    "plt.savefig('./img/direction.eps',\\\n",
    "    format='eps',bbox_inches='tight',pad_inches=0.0)\n",
    "plt.show()\n"
   ]
  },
  {
   "attachments": {},
   "cell_type": "markdown",
   "metadata": {},
   "source": [
    "### `elevator` -> `building_height`\n",
    "* 缺失值处理\\\n",
    "&ensp;&ensp;依据：根据房屋所在楼的高度，若高于6层一般会加装电梯\n",
    "* 独热(one-hot)处理"
   ]
  },
  {
   "cell_type": "code",
   "execution_count": 196,
   "metadata": {},
   "outputs": [
    {
     "data": {
      "text/plain": [
       "1    2530\n",
       "0     336\n",
       "Name: elevator, dtype: int64"
      ]
     },
     "execution_count": 196,
     "metadata": {},
     "output_type": "execute_result"
    }
   ],
   "source": [
    "data['building_height'] = data['floor'].str.extract(r'共(\\d+)层').astype('int')\n",
    "data.loc[(data['elevator'].isnull()) & (data['building_height'] > 6),\n",
    "         'elevator'] = '有'\n",
    "data.loc[(data['elevator'].isnull()) & (data['building_height'] > 6),\n",
    "         'elevator'] = '无'\n",
    "data['elevator']=data['elevator'].apply(lambda x:1 if x=='有' else 0)\n",
    "data['elevator'].value_counts()"
   ]
  },
  {
   "attachments": {},
   "cell_type": "markdown",
   "metadata": {},
   "source": [
    "### `floor` -> `est_floor`\n",
    "`floor` 的信息为“低中高”楼层\\\n",
    "利用 `elevator` 部分中提取的 `building_height` 估算房屋的楼高 `est_floor`\\\n",
    "低楼层取1/3 中楼层取2/3 高楼取总高度"
   ]
  },
  {
   "cell_type": "code",
   "execution_count": 197,
   "metadata": {},
   "outputs": [
    {
     "data": {
      "text/plain": [
       "高楼层 (共33层)    174\n",
       "低楼层 (共33层)    160\n",
       "中楼层 (共33层)    156\n",
       "高楼层 (共6层)     102\n",
       "高楼层 (共32层)     94\n",
       "             ... \n",
       "中楼层 (共4层)       1\n",
       "低楼层 (共36层)      1\n",
       "中楼层 (共36层)      1\n",
       "中楼层 (共41层)      1\n",
       "高楼层 (共43层)      1\n",
       "Name: floor, Length: 102, dtype: int64"
      ]
     },
     "execution_count": 197,
     "metadata": {},
     "output_type": "execute_result"
    }
   ],
   "source": [
    "data['floor'].value_counts(dropna=False)"
   ]
  },
  {
   "cell_type": "code",
   "execution_count": 198,
   "metadata": {},
   "outputs": [
    {
     "name": "stderr",
     "output_type": "stream",
     "text": [
      "C:\\Users\\19317\\AppData\\Local\\Temp\\ipykernel_11104\\256116416.py:2: SettingWithCopyWarning: \n",
      "A value is trying to be set on a copy of a slice from a DataFrame.\n",
      "Try using .loc[row_indexer,col_indexer] = value instead\n",
      "\n",
      "See the caveats in the documentation: https://pandas.pydata.org/pandas-docs/stable/user_guide/indexing.html#returning-a-view-versus-a-copy\n",
      "  data[data['floor'].str[0]=='低']['est_floor']=\\\n",
      "C:\\Users\\19317\\AppData\\Local\\Temp\\ipykernel_11104\\256116416.py:4: SettingWithCopyWarning: \n",
      "A value is trying to be set on a copy of a slice from a DataFrame.\n",
      "Try using .loc[row_indexer,col_indexer] = value instead\n",
      "\n",
      "See the caveats in the documentation: https://pandas.pydata.org/pandas-docs/stable/user_guide/indexing.html#returning-a-view-versus-a-copy\n",
      "  data[data['floor'].str[0]=='中']['est_floor']=\\\n"
     ]
    },
    {
     "data": {
      "text/plain": [
       "0       30\n",
       "1       33\n",
       "2       31\n",
       "3       26\n",
       "4       34\n",
       "        ..\n",
       "2995    34\n",
       "2996    26\n",
       "2997    32\n",
       "2998    28\n",
       "2999     7\n",
       "Name: est_floor, Length: 2866, dtype: int32"
      ]
     },
     "metadata": {},
     "output_type": "display_data"
    }
   ],
   "source": [
    "data['est_floor']=data['building_height']*1.0\n",
    "data[data['floor'].str[0]=='低']['est_floor']=\\\n",
    "    data[data['floor'].str[0]=='低']['est_floor']/3\n",
    "data[data['floor'].str[0]=='中']['est_floor']=\\\n",
    "    data[data['floor'].str[0]=='中']['est_floor']*2/3\n",
    "data['est_floor']=data['est_floor'].round().astype('int')\n",
    "display(data['est_floor'])"
   ]
  },
  {
   "attachments": {},
   "cell_type": "markdown",
   "metadata": {},
   "source": [
    "### `layout` -> `layout_room`, `layout_hall`, `layout_kitchen`, `layout_bathroom`\n",
    "链家的信息登记较规范，格式为“X室X厅X厨X卫”，无缺失值\\\n",
    "因此用正则表达式提取即可"
   ]
  },
  {
   "cell_type": "code",
   "execution_count": 199,
   "metadata": {},
   "outputs": [
    {
     "data": {
      "text/plain": [
       "2室1厅1厨1卫    594\n",
       "3室2厅1厨2卫    515\n",
       "2室2厅1厨1卫    483\n",
       "3室2厅1厨1卫    291\n",
       "1室1厅1厨1卫    186\n",
       "3室1厅1厨1卫    173\n",
       "4室2厅1厨2卫    173\n",
       "3室1厅1厨2卫    134\n",
       "1室0厅1厨1卫    106\n",
       "2室2厅1厨2卫     39\n",
       "2室1厅1厨2卫     25\n",
       "4室2厅1厨3卫     21\n",
       "4室1厅1厨2卫     21\n",
       "1室0厅0厨1卫     12\n",
       "3室2厅1厨3卫     11\n",
       "1室2厅1厨1卫      9\n",
       "5室2厅1厨3卫      7\n",
       "4室2厅1厨1卫      5\n",
       "4室2厅1厨4卫      4\n",
       "1室1厅0厨1卫      4\n",
       "4室1厅1厨4卫      4\n",
       "2室0厅1厨1卫      3\n",
       "4室1厅1厨3卫      3\n",
       "5室2厅1厨2卫      2\n",
       "3室1厅1厨3卫      2\n",
       "5室1厅1厨2卫      2\n",
       "4室1厅1厨1卫      2\n",
       "1室0厅0厨0卫      2\n",
       "4室2厅2厨3卫      2\n",
       "3室1厅0厨1卫      1\n",
       "5室2厅1厨1卫      1\n",
       "4室2厅2厨2卫      1\n",
       "4室0厅1厨4卫      1\n",
       "4室3厅1厨4卫      1\n",
       "2室1厅0厨2卫      1\n",
       "3室3厅1厨2卫      1\n",
       "5室3厅1厨4卫      1\n",
       "6室3厅1厨2卫      1\n",
       "5室2厅1厨4卫      1\n",
       "2室1厅0厨0卫      1\n",
       "4室2厅0厨2卫      1\n",
       "4室3厅1厨3卫      1\n",
       "6室2厅1厨2卫      1\n",
       "1室0厅0厨2卫      1\n",
       "3室2厅0厨0卫      1\n",
       "2室0厅0厨0卫      1\n",
       "6室3厅1厨3卫      1\n",
       "4室1厅1厨5卫      1\n",
       "6室2厅2厨8卫      1\n",
       "4室4厅2厨2卫      1\n",
       "5室3厅1厨3卫      1\n",
       "5室1厅1厨3卫      1\n",
       "3室1厅2厨2卫      1\n",
       "3室2厅2厨2卫      1\n",
       "6室2厅2厨3卫      1\n",
       "2室1厅1厨0卫      1\n",
       "2室1厅0厨1卫      1\n",
       "5室3厅1厨2卫      1\n",
       "6室2厅2厨4卫      1\n",
       "3室3厅1厨1卫      1\n",
       "Name: layout, dtype: int64"
      ]
     },
     "metadata": {},
     "output_type": "display_data"
    },
    {
     "data": {
      "text/html": [
       "<div>\n",
       "<style scoped>\n",
       "    .dataframe tbody tr th:only-of-type {\n",
       "        vertical-align: middle;\n",
       "    }\n",
       "\n",
       "    .dataframe tbody tr th {\n",
       "        vertical-align: top;\n",
       "    }\n",
       "\n",
       "    .dataframe thead th {\n",
       "        text-align: right;\n",
       "    }\n",
       "</style>\n",
       "<table border=\"1\" class=\"dataframe\">\n",
       "  <thead>\n",
       "    <tr style=\"text-align: right;\">\n",
       "      <th></th>\n",
       "      <th>_id</th>\n",
       "      <th>totalPrice</th>\n",
       "      <th>area</th>\n",
       "      <th>layout_room</th>\n",
       "      <th>layout_hall</th>\n",
       "      <th>layout_kitchen</th>\n",
       "      <th>layout_bathroom</th>\n",
       "    </tr>\n",
       "  </thead>\n",
       "  <tbody>\n",
       "    <tr>\n",
       "      <th>0</th>\n",
       "      <td>101117686545</td>\n",
       "      <td>165.0</td>\n",
       "      <td>93.00</td>\n",
       "      <td>3</td>\n",
       "      <td>2</td>\n",
       "      <td>1</td>\n",
       "      <td>1</td>\n",
       "    </tr>\n",
       "    <tr>\n",
       "      <th>1</th>\n",
       "      <td>101117686563</td>\n",
       "      <td>230.0</td>\n",
       "      <td>129.00</td>\n",
       "      <td>3</td>\n",
       "      <td>1</td>\n",
       "      <td>1</td>\n",
       "      <td>2</td>\n",
       "    </tr>\n",
       "    <tr>\n",
       "      <th>2</th>\n",
       "      <td>101117686600</td>\n",
       "      <td>195.0</td>\n",
       "      <td>99.16</td>\n",
       "      <td>3</td>\n",
       "      <td>2</td>\n",
       "      <td>1</td>\n",
       "      <td>1</td>\n",
       "    </tr>\n",
       "    <tr>\n",
       "      <th>3</th>\n",
       "      <td>101117686611</td>\n",
       "      <td>149.0</td>\n",
       "      <td>99.00</td>\n",
       "      <td>3</td>\n",
       "      <td>2</td>\n",
       "      <td>1</td>\n",
       "      <td>1</td>\n",
       "    </tr>\n",
       "    <tr>\n",
       "      <th>4</th>\n",
       "      <td>101117686628</td>\n",
       "      <td>170.0</td>\n",
       "      <td>77.00</td>\n",
       "      <td>2</td>\n",
       "      <td>1</td>\n",
       "      <td>1</td>\n",
       "      <td>1</td>\n",
       "    </tr>\n",
       "  </tbody>\n",
       "</table>\n",
       "</div>"
      ],
      "text/plain": [
       "            _id  totalPrice    area  layout_room  layout_hall  layout_kitchen  \\\n",
       "0  101117686545       165.0   93.00            3            2               1   \n",
       "1  101117686563       230.0  129.00            3            1               1   \n",
       "2  101117686600       195.0   99.16            3            2               1   \n",
       "3  101117686611       149.0   99.00            3            2               1   \n",
       "4  101117686628       170.0   77.00            2            1               1   \n",
       "\n",
       "   layout_bathroom  \n",
       "0                1  \n",
       "1                2  \n",
       "2                1  \n",
       "3                1  \n",
       "4                1  "
      ]
     },
     "metadata": {},
     "output_type": "display_data"
    }
   ],
   "source": [
    "display(data['layout'].value_counts(dropna=False))\n",
    "data[['layout_room','layout_hall','layout_kitchen','layout_bathroom']]=\\\n",
    "    data['layout'].str.extract(r'(\\d*)室(\\d*)厅+(\\d*)厨(\\d*)卫+').astype('int')\n",
    "display(data[['_id','totalPrice','area','layout_room','layout_hall','layout_kitchen','layout_bathroom']].head())"
   ]
  },
  {
   "attachments": {},
   "cell_type": "markdown",
   "metadata": {},
   "source": [
    "### `stairway` -> `perStair`\n",
    "`stairway` 的格式为“X梯X户”，因搭配较多不利于模型训练\\\n",
    "修改策略: 新增一列 `perStair` 表示平均多少户共用一梯"
   ]
  },
  {
   "cell_type": "code",
   "execution_count": 200,
   "metadata": {},
   "outputs": [
    {
     "data": {
      "text/plain": [
       "两梯四户      707\n",
       "一梯两户      443\n",
       "两梯六户      199\n",
       "两梯三户      152\n",
       "一梯四户      151\n",
       "         ... \n",
       "四梯五户        1\n",
       "五梯十五户       1\n",
       "两梯二十三户      1\n",
       "三梯二十八户      1\n",
       "三梯三十三户      1\n",
       "Name: stairway, Length: 141, dtype: int64"
      ]
     },
     "metadata": {},
     "output_type": "display_data"
    },
    {
     "data": {
      "text/plain": [
       "0       2.000000\n",
       "1       2.000000\n",
       "2       2.000000\n",
       "3       2.666667\n",
       "4       2.000000\n",
       "          ...   \n",
       "2995    2.000000\n",
       "2996    2.500000\n",
       "2997    4.000000\n",
       "2998    3.000000\n",
       "2999    2.000000\n",
       "Name: perStair, Length: 2866, dtype: float64"
      ]
     },
     "metadata": {},
     "output_type": "display_data"
    }
   ],
   "source": [
    "def char2num(x):\n",
    "    num_dict={\n",
    "        '一':'1','二':'2','两':'2',\n",
    "        '三':'3','四':'4','五':'5',\n",
    "        '六':'6','七':'7','八':'8',\n",
    "        '九':'9','十':'0',\n",
    "    }\n",
    "    if '十' in x:\n",
    "        if x[0]=='十':\n",
    "            num_str='1'+num_dict[x[-1]]\n",
    "        else:\n",
    "            num_str=num_dict[x[0]]+num_dict[x[-1]]\n",
    "    else:\n",
    "        num_str=num_dict[x[0]]\n",
    "    return float(num_str)\n",
    "\n",
    "data['stairway'].value_counts(dropna=False)\n",
    "num_char=r'[一两二三四五六七八九十]'\n",
    "df=data['stairway'].str.extract(f'({num_char}+)梯({num_char}+)户')\n",
    "data['perStair']=df[1].apply(char2num)/df[0].apply(char2num)\n",
    "display(data['stairway'].value_counts(dropna=False),data['perStair'])"
   ]
  },
  {
   "attachments": {},
   "cell_type": "markdown",
   "metadata": {},
   "source": [
    "### `type`\n",
    "缺失值填充&ensp;&ensp;依据：\n",
    "* 根据房屋构造，一厨且面积较小(<100)或一卫的一般是平层\n",
    "* 单独判断面积较大(>250)和较少(<100)的房屋\n",
    "* 余下的缺失值难以判断"
   ]
  },
  {
   "cell_type": "code",
   "execution_count": 201,
   "metadata": {},
   "outputs": [
    {
     "data": {
      "text/plain": [
       "平层     2086\n",
       "NaN     659\n",
       "复式       86\n",
       "跃层       29\n",
       "错层        6\n",
       "Name: type, dtype: int64"
      ]
     },
     "execution_count": 201,
     "metadata": {},
     "output_type": "execute_result"
    }
   ],
   "source": [
    "data['type'].value_counts(dropna=False)"
   ]
  },
  {
   "cell_type": "code",
   "execution_count": 202,
   "metadata": {},
   "outputs": [
    {
     "data": {
      "text/html": [
       "<div>\n",
       "<style scoped>\n",
       "    .dataframe tbody tr th:only-of-type {\n",
       "        vertical-align: middle;\n",
       "    }\n",
       "\n",
       "    .dataframe tbody tr th {\n",
       "        vertical-align: top;\n",
       "    }\n",
       "\n",
       "    .dataframe thead th {\n",
       "        text-align: right;\n",
       "    }\n",
       "</style>\n",
       "<table border=\"1\" class=\"dataframe\">\n",
       "  <thead>\n",
       "    <tr style=\"text-align: right;\">\n",
       "      <th></th>\n",
       "      <th>_id</th>\n",
       "      <th>area</th>\n",
       "      <th>type</th>\n",
       "      <th>layout</th>\n",
       "    </tr>\n",
       "  </thead>\n",
       "  <tbody>\n",
       "    <tr>\n",
       "      <th>198</th>\n",
       "      <td>101117678707</td>\n",
       "      <td>270.00</td>\n",
       "      <td>NaN</td>\n",
       "      <td>5室3厅1厨3卫</td>\n",
       "    </tr>\n",
       "    <tr>\n",
       "      <th>392</th>\n",
       "      <td>101117671441</td>\n",
       "      <td>288.00</td>\n",
       "      <td>NaN</td>\n",
       "      <td>5室2厅1厨3卫</td>\n",
       "    </tr>\n",
       "    <tr>\n",
       "      <th>1683</th>\n",
       "      <td>101117538394</td>\n",
       "      <td>96.97</td>\n",
       "      <td>NaN</td>\n",
       "      <td>1室0厅0厨2卫</td>\n",
       "    </tr>\n",
       "    <tr>\n",
       "      <th>2670</th>\n",
       "      <td>101117671008</td>\n",
       "      <td>96.28</td>\n",
       "      <td>NaN</td>\n",
       "      <td>2室1厅0厨0卫</td>\n",
       "    </tr>\n",
       "  </tbody>\n",
       "</table>\n",
       "</div>"
      ],
      "text/plain": [
       "               _id    area type    layout\n",
       "198   101117678707  270.00  NaN  5室3厅1厨3卫\n",
       "392   101117671441  288.00  NaN  5室2厅1厨3卫\n",
       "1683  101117538394   96.97  NaN  1室0厅0厨2卫\n",
       "2670  101117671008   96.28  NaN  2室1厅0厨0卫"
      ]
     },
     "metadata": {},
     "output_type": "display_data"
    },
    {
     "data": {
      "text/html": [
       "<div>\n",
       "<style scoped>\n",
       "    .dataframe tbody tr th:only-of-type {\n",
       "        vertical-align: middle;\n",
       "    }\n",
       "\n",
       "    .dataframe tbody tr th {\n",
       "        vertical-align: top;\n",
       "    }\n",
       "\n",
       "    .dataframe thead th {\n",
       "        text-align: right;\n",
       "    }\n",
       "</style>\n",
       "<table border=\"1\" class=\"dataframe\">\n",
       "  <thead>\n",
       "    <tr style=\"text-align: right;\">\n",
       "      <th></th>\n",
       "      <th>_id</th>\n",
       "      <th>area</th>\n",
       "      <th>type</th>\n",
       "      <th>layout</th>\n",
       "    </tr>\n",
       "  </thead>\n",
       "  <tbody>\n",
       "    <tr>\n",
       "      <th>6</th>\n",
       "      <td>101117686673</td>\n",
       "      <td>122.90</td>\n",
       "      <td>NaN</td>\n",
       "      <td>3室2厅1厨2卫</td>\n",
       "    </tr>\n",
       "    <tr>\n",
       "      <th>8</th>\n",
       "      <td>101117686701</td>\n",
       "      <td>110.00</td>\n",
       "      <td>NaN</td>\n",
       "      <td>3室2厅1厨2卫</td>\n",
       "    </tr>\n",
       "    <tr>\n",
       "      <th>13</th>\n",
       "      <td>101117686758</td>\n",
       "      <td>161.00</td>\n",
       "      <td>NaN</td>\n",
       "      <td>3室2厅1厨2卫</td>\n",
       "    </tr>\n",
       "    <tr>\n",
       "      <th>19</th>\n",
       "      <td>101117686315</td>\n",
       "      <td>133.67</td>\n",
       "      <td>NaN</td>\n",
       "      <td>3室2厅1厨2卫</td>\n",
       "    </tr>\n",
       "    <tr>\n",
       "      <th>26</th>\n",
       "      <td>101117686501</td>\n",
       "      <td>153.08</td>\n",
       "      <td>NaN</td>\n",
       "      <td>3室2厅1厨2卫</td>\n",
       "    </tr>\n",
       "    <tr>\n",
       "      <th>...</th>\n",
       "      <td>...</td>\n",
       "      <td>...</td>\n",
       "      <td>...</td>\n",
       "      <td>...</td>\n",
       "    </tr>\n",
       "    <tr>\n",
       "      <th>2973</th>\n",
       "      <td>101117685169</td>\n",
       "      <td>128.69</td>\n",
       "      <td>NaN</td>\n",
       "      <td>3室2厅1厨2卫</td>\n",
       "    </tr>\n",
       "    <tr>\n",
       "      <th>2983</th>\n",
       "      <td>101117685381</td>\n",
       "      <td>160.00</td>\n",
       "      <td>NaN</td>\n",
       "      <td>4室2厅1厨2卫</td>\n",
       "    </tr>\n",
       "    <tr>\n",
       "      <th>2990</th>\n",
       "      <td>101117685993</td>\n",
       "      <td>106.00</td>\n",
       "      <td>NaN</td>\n",
       "      <td>2室1厅1厨2卫</td>\n",
       "    </tr>\n",
       "    <tr>\n",
       "      <th>2993</th>\n",
       "      <td>101117686031</td>\n",
       "      <td>146.00</td>\n",
       "      <td>NaN</td>\n",
       "      <td>3室2厅1厨2卫</td>\n",
       "    </tr>\n",
       "    <tr>\n",
       "      <th>2996</th>\n",
       "      <td>101117686100</td>\n",
       "      <td>158.61</td>\n",
       "      <td>NaN</td>\n",
       "      <td>3室2厅1厨2卫</td>\n",
       "    </tr>\n",
       "  </tbody>\n",
       "</table>\n",
       "<p>209 rows × 4 columns</p>\n",
       "</div>"
      ],
      "text/plain": [
       "               _id    area type    layout\n",
       "6     101117686673  122.90  NaN  3室2厅1厨2卫\n",
       "8     101117686701  110.00  NaN  3室2厅1厨2卫\n",
       "13    101117686758  161.00  NaN  3室2厅1厨2卫\n",
       "19    101117686315  133.67  NaN  3室2厅1厨2卫\n",
       "26    101117686501  153.08  NaN  3室2厅1厨2卫\n",
       "...            ...     ...  ...       ...\n",
       "2973  101117685169  128.69  NaN  3室2厅1厨2卫\n",
       "2983  101117685381  160.00  NaN  4室2厅1厨2卫\n",
       "2990  101117685993  106.00  NaN  2室1厅1厨2卫\n",
       "2993  101117686031  146.00  NaN  3室2厅1厨2卫\n",
       "2996  101117686100  158.61  NaN  3室2厅1厨2卫\n",
       "\n",
       "[209 rows x 4 columns]"
      ]
     },
     "metadata": {},
     "output_type": "display_data"
    }
   ],
   "source": [
    "data.loc[(data['type'].isnull())&(data['layout_bathroom']==1),'type']='平层'\n",
    "data.loc[(data['type'].isnull())&(data['layout_kitchen']==1)\\\n",
    "    &(data['area']<100),'type']='平层'\n",
    "display(data.loc[(data['type'].isnull())&((data['area']<100)|(data['area']>250)),['_id','area','type','layout']])\n",
    "data.loc[data['_id']==101117538394,'type']='复式'\n",
    "data.loc[data['_id']==101117671441,'type']='跃层'\n",
    "display(data.loc[data['type'].isnull(),['_id','area','type','layout']])"
   ]
  },
  {
   "attachments": {},
   "cell_type": "markdown",
   "metadata": {},
   "source": [
    "### `year`\n",
    "缺失值填充\\\n",
    "&ensp;&ensp;依据：同一片地区的建筑建设时间大致相同"
   ]
  },
  {
   "cell_type": "code",
   "execution_count": 203,
   "metadata": {},
   "outputs": [
    {
     "data": {
      "text/plain": [
       "garden\n",
       "世博园       [未满两年, 满两年]\n",
       "临潼               未满两年\n",
       "北客站               满两年\n",
       "半坡立交      [未满两年, 满五年]\n",
       "南稍门               满五年\n",
       "唐延路               满五年\n",
       "国际港务区            未满两年\n",
       "城东                满五年\n",
       "城内                满五年\n",
       "城北                满五年\n",
       "城南                满五年\n",
       "城西                满两年\n",
       "太白南路              满五年\n",
       "安装四处              满五年\n",
       "广泰门               满两年\n",
       "户县                满五年\n",
       "曲江                满两年\n",
       "未央湖               满两年\n",
       "李家村               满五年\n",
       "洪庆        [未满两年, 满五年]\n",
       "浐河西路              满五年\n",
       "浐灞周边             未满两年\n",
       "矿山路               满两年\n",
       "科技六路              满五年\n",
       "紫薇田园都市            满五年\n",
       "纺织城               满五年\n",
       "经开北        [满两年, 满五年]\n",
       "经开南               满五年\n",
       "草滩               未满两年\n",
       "蓝田                满五年\n",
       "西咸               未满两年\n",
       "逸翠园        [满两年, 满五年]\n",
       "都市之门              满两年\n",
       "锦业路               满五年\n",
       "长安                满两年\n",
       "陕西大会堂             满两年\n",
       "雁南                满两年\n",
       "雁鸣湖              未满两年\n",
       "高新一中              满五年\n",
       "高新三小              满五年\n",
       "高新六路              满五年\n",
       "高新四路              满五年\n",
       "高新软件城              []\n",
       "高陵                满五年\n",
       "鱼化寨               满两年\n",
       "黄雁村               满五年\n",
       "Name: year, dtype: object"
      ]
     },
     "metadata": {},
     "output_type": "display_data"
    }
   ],
   "source": [
    "yearMode=data.groupby('garden')['year'].agg(pd.Series.mode)\n",
    "display(yearMode)\n",
    "for garden in yearMode.index:\n",
    "    mode=yearMode[garden]\n",
    "    if not isinstance(mode,str):\n",
    "        if len(mode)==0:\n",
    "            mode=None\n",
    "        else:\n",
    "            mode=mode[0]\n",
    "    data.loc[(data['year'].isnull())&(data['garden']==garden),'year']=mode"
   ]
  },
  {
   "attachments": {},
   "cell_type": "markdown",
   "metadata": {},
   "source": [
    "### 剩余部分\n",
    "`building` ,`type` 和 `year` 的缺失值较少且难以填充，故舍去"
   ]
  },
  {
   "cell_type": "code",
   "execution_count": 220,
   "metadata": {},
   "outputs": [
    {
     "data": {
      "text/plain": [
       "1991    2368.0\n",
       "2601    3200.0\n",
       "Name: totalPrice, dtype: float64"
      ]
     },
     "execution_count": 220,
     "metadata": {},
     "output_type": "execute_result"
    }
   ],
   "source": [
    "data.loc[data['totalPrice']>1500,'totalPrice']"
   ]
  },
  {
   "cell_type": "code",
   "execution_count": 204,
   "metadata": {},
   "outputs": [
    {
     "name": "stdout",
     "output_type": "stream",
     "text": [
      "剩余缺失值分布：\n",
      " type               209\n",
      "building           125\n",
      "heating            101\n",
      "year                 2\n",
      "area                 0\n",
      "layout_bathroom      0\n",
      "layout_kitchen       0\n",
      "layout_hall          0\n",
      "layout_room          0\n",
      "est_floor            0\n",
      "building_height      0\n",
      "usage                0\n",
      "unitPrice            0\n",
      "structure            0\n",
      "totalPrice           0\n",
      "stairway             0\n",
      "renovation           0\n",
      "region               0\n",
      "layout               0\n",
      "_id                  0\n",
      "garden               0\n",
      "floor                0\n",
      "elevator             0\n",
      "direction            0\n",
      "perStair             0\n",
      "dtype: int64\n"
     ]
    }
   ],
   "source": [
    "after_missing=data.isnull().sum().sort_values(ascending=False)\n",
    "print('剩余缺失值分布：\\n',after_missing)\n",
    "after_missing=after_missing[after_missing>0]\n",
    "data.dropna(subset=['building','heating','type','year'],inplace=True)"
   ]
  },
  {
   "cell_type": "code",
   "execution_count": 212,
   "metadata": {},
   "outputs": [
    {
     "data": {
      "image/png": "[encoded data removed]",
      "text/plain": [
       "<Figure size 1440x576 with 2 Axes>"
      ]
     },
     "metadata": {
      "needs_background": "light"
     },
     "output_type": "display_data"
    }
   ],
   "source": [
    "f, [ax1, ax2] = plt.subplots(1, 2, figsize=(20, 8))\n",
    "bar1=sns.barplot(palette=\"Blues_d\",\\\n",
    "    data=before_missing.to_frame('missing').T,ax=ax1)\n",
    "ax1.bar_label(bar1.containers[0])\n",
    "#plt.setp(ax1.get_xticklabels(), rotation=30)\n",
    "ax1.set_xlabel('特征',fontsize=10)\n",
    "ax1.set_ylabel('缺失值数量',fontsize=10)\n",
    "ax1.set_title(f'处理前: {missing} 条缺失样本',fontsize=15)\n",
    "\n",
    "bar2=sns.barplot(palette=\"Greens_d\",\\\n",
    "    data=after_missing.to_frame('missing').T,ax=ax2)\n",
    "ax2.bar_label(bar2.containers[0])\n",
    "#plt.setp(ax2.get_xticklabels(), rotation=60)\n",
    "ax2.set_xlabel('特征',fontsize=10)\n",
    "ax2.set_ylabel('缺失值数量',fontsize=10)\n",
    "ax2.set_title('处理后',fontsize=15)\n",
    "\n",
    "plt.savefig('./img/missing.eps',\\\n",
    "    format='eps',bbox_inches='tight',pad_inches=0.0)\n",
    "plt.show()"
   ]
  },
  {
   "attachments": {},
   "cell_type": "markdown",
   "metadata": {},
   "source": [
    "## Result\n",
    "经预处理后剩余样本数为2544，\\\n",
    "无缺失值，大部分特征分布均匀"
   ]
  },
  {
   "cell_type": "code",
   "execution_count": 206,
   "metadata": {},
   "outputs": [
    {
     "name": "stdout",
     "output_type": "stream",
     "text": [
      "样本总量:  2544\n"
     ]
    },
    {
     "data": {
      "text/html": [
       "<div>\n",
       "<style scoped>\n",
       "    .dataframe tbody tr th:only-of-type {\n",
       "        vertical-align: middle;\n",
       "    }\n",
       "\n",
       "    .dataframe tbody tr th {\n",
       "        vertical-align: top;\n",
       "    }\n",
       "\n",
       "    .dataframe thead th {\n",
       "        text-align: right;\n",
       "    }\n",
       "</style>\n",
       "<table border=\"1\" class=\"dataframe\">\n",
       "  <thead>\n",
       "    <tr style=\"text-align: right;\">\n",
       "      <th></th>\n",
       "      <th>area</th>\n",
       "      <th>building</th>\n",
       "      <th>direction</th>\n",
       "      <th>elevator</th>\n",
       "      <th>floor</th>\n",
       "      <th>garden</th>\n",
       "      <th>heating</th>\n",
       "      <th>_id</th>\n",
       "      <th>layout</th>\n",
       "      <th>region</th>\n",
       "      <th>...</th>\n",
       "      <th>unitPrice</th>\n",
       "      <th>usage</th>\n",
       "      <th>year</th>\n",
       "      <th>building_height</th>\n",
       "      <th>est_floor</th>\n",
       "      <th>layout_room</th>\n",
       "      <th>layout_hall</th>\n",
       "      <th>layout_kitchen</th>\n",
       "      <th>layout_bathroom</th>\n",
       "      <th>perStair</th>\n",
       "    </tr>\n",
       "  </thead>\n",
       "  <tbody>\n",
       "    <tr>\n",
       "      <th>0</th>\n",
       "      <td>93.00</td>\n",
       "      <td>板塔结合</td>\n",
       "      <td>南</td>\n",
       "      <td>1</td>\n",
       "      <td>高楼层 (共30层)</td>\n",
       "      <td>长安</td>\n",
       "      <td>集中供暖</td>\n",
       "      <td>101117686545</td>\n",
       "      <td>3室2厅1厨1卫</td>\n",
       "      <td>长安</td>\n",
       "      <td>...</td>\n",
       "      <td>17742.0</td>\n",
       "      <td>普通住宅</td>\n",
       "      <td>满两年</td>\n",
       "      <td>30</td>\n",
       "      <td>30</td>\n",
       "      <td>3</td>\n",
       "      <td>2</td>\n",
       "      <td>1</td>\n",
       "      <td>1</td>\n",
       "      <td>2.000000</td>\n",
       "    </tr>\n",
       "    <tr>\n",
       "      <th>1</th>\n",
       "      <td>129.00</td>\n",
       "      <td>板塔结合</td>\n",
       "      <td>南北</td>\n",
       "      <td>1</td>\n",
       "      <td>中楼层 (共33层)</td>\n",
       "      <td>长安</td>\n",
       "      <td>集中供暖</td>\n",
       "      <td>101117686563</td>\n",
       "      <td>3室1厅1厨2卫</td>\n",
       "      <td>长安</td>\n",
       "      <td>...</td>\n",
       "      <td>17830.0</td>\n",
       "      <td>普通住宅</td>\n",
       "      <td>满两年</td>\n",
       "      <td>33</td>\n",
       "      <td>33</td>\n",
       "      <td>3</td>\n",
       "      <td>1</td>\n",
       "      <td>1</td>\n",
       "      <td>2</td>\n",
       "      <td>2.000000</td>\n",
       "    </tr>\n",
       "    <tr>\n",
       "      <th>2</th>\n",
       "      <td>99.16</td>\n",
       "      <td>板塔结合</td>\n",
       "      <td>南北</td>\n",
       "      <td>1</td>\n",
       "      <td>中楼层 (共31层)</td>\n",
       "      <td>曲江</td>\n",
       "      <td>集中供暖</td>\n",
       "      <td>101117686600</td>\n",
       "      <td>3室2厅1厨1卫</td>\n",
       "      <td>雁塔</td>\n",
       "      <td>...</td>\n",
       "      <td>19666.0</td>\n",
       "      <td>普通住宅</td>\n",
       "      <td>满两年</td>\n",
       "      <td>31</td>\n",
       "      <td>31</td>\n",
       "      <td>3</td>\n",
       "      <td>2</td>\n",
       "      <td>1</td>\n",
       "      <td>1</td>\n",
       "      <td>2.000000</td>\n",
       "    </tr>\n",
       "    <tr>\n",
       "      <th>3</th>\n",
       "      <td>99.00</td>\n",
       "      <td>塔楼</td>\n",
       "      <td>南北</td>\n",
       "      <td>1</td>\n",
       "      <td>高楼层 (共26层)</td>\n",
       "      <td>曲江</td>\n",
       "      <td>集中供暖</td>\n",
       "      <td>101117686611</td>\n",
       "      <td>3室2厅1厨1卫</td>\n",
       "      <td>雁塔</td>\n",
       "      <td>...</td>\n",
       "      <td>15051.0</td>\n",
       "      <td>普通住宅</td>\n",
       "      <td>满两年</td>\n",
       "      <td>26</td>\n",
       "      <td>26</td>\n",
       "      <td>3</td>\n",
       "      <td>2</td>\n",
       "      <td>1</td>\n",
       "      <td>1</td>\n",
       "      <td>2.666667</td>\n",
       "    </tr>\n",
       "    <tr>\n",
       "      <th>4</th>\n",
       "      <td>77.00</td>\n",
       "      <td>板塔结合</td>\n",
       "      <td>南北</td>\n",
       "      <td>1</td>\n",
       "      <td>中楼层 (共34层)</td>\n",
       "      <td>曲江</td>\n",
       "      <td>集中供暖</td>\n",
       "      <td>101117686628</td>\n",
       "      <td>2室1厅1厨1卫</td>\n",
       "      <td>雁塔</td>\n",
       "      <td>...</td>\n",
       "      <td>22078.0</td>\n",
       "      <td>普通住宅</td>\n",
       "      <td>满两年</td>\n",
       "      <td>34</td>\n",
       "      <td>34</td>\n",
       "      <td>2</td>\n",
       "      <td>1</td>\n",
       "      <td>1</td>\n",
       "      <td>1</td>\n",
       "      <td>2.000000</td>\n",
       "    </tr>\n",
       "  </tbody>\n",
       "</table>\n",
       "<p>5 rows × 25 columns</p>\n",
       "</div>"
      ],
      "text/plain": [
       "     area building direction  elevator       floor garden heating  \\\n",
       "0   93.00     板塔结合         南         1  高楼层 (共30层)     长安    集中供暖   \n",
       "1  129.00     板塔结合        南北         1  中楼层 (共33层)     长安    集中供暖   \n",
       "2   99.16     板塔结合        南北         1  中楼层 (共31层)     曲江    集中供暖   \n",
       "3   99.00       塔楼        南北         1  高楼层 (共26层)     曲江    集中供暖   \n",
       "4   77.00     板塔结合        南北         1  中楼层 (共34层)     曲江    集中供暖   \n",
       "\n",
       "            _id    layout region  ... unitPrice usage year  building_height  \\\n",
       "0  101117686545  3室2厅1厨1卫     长安  ...   17742.0  普通住宅  满两年               30   \n",
       "1  101117686563  3室1厅1厨2卫     长安  ...   17830.0  普通住宅  满两年               33   \n",
       "2  101117686600  3室2厅1厨1卫     雁塔  ...   19666.0  普通住宅  满两年               31   \n",
       "3  101117686611  3室2厅1厨1卫     雁塔  ...   15051.0  普通住宅  满两年               26   \n",
       "4  101117686628  2室1厅1厨1卫     雁塔  ...   22078.0  普通住宅  满两年               34   \n",
       "\n",
       "  est_floor  layout_room layout_hall layout_kitchen  layout_bathroom  perStair  \n",
       "0        30            3           2              1                1  2.000000  \n",
       "1        33            3           1              1                2  2.000000  \n",
       "2        31            3           2              1                1  2.000000  \n",
       "3        26            3           2              1                1  2.666667  \n",
       "4        34            2           1              1                1  2.000000  \n",
       "\n",
       "[5 rows x 25 columns]"
      ]
     },
     "metadata": {},
     "output_type": "display_data"
    },
    {
     "data": {
      "text/plain": [
       "area               0\n",
       "building           0\n",
       "direction          0\n",
       "elevator           0\n",
       "floor              0\n",
       "garden             0\n",
       "heating            0\n",
       "_id                0\n",
       "layout             0\n",
       "region             0\n",
       "renovation         0\n",
       "stairway           0\n",
       "structure          0\n",
       "totalPrice         0\n",
       "type               0\n",
       "unitPrice          0\n",
       "usage              0\n",
       "year               0\n",
       "building_height    0\n",
       "est_floor          0\n",
       "layout_room        0\n",
       "layout_hall        0\n",
       "layout_kitchen     0\n",
       "layout_bathroom    0\n",
       "perStair           0\n",
       "dtype: int64"
      ]
     },
     "metadata": {},
     "output_type": "display_data"
    }
   ],
   "source": [
    "print('样本总量: ', data.shape[0])\n",
    "display(data.head(),data.isnull().sum())"
   ]
  },
  {
   "attachments": {},
   "cell_type": "markdown",
   "metadata": {},
   "source": [
    "## Insight"
   ]
  },
  {
   "cell_type": "code",
   "execution_count": 216,
   "metadata": {},
   "outputs": [
    {
     "data": {
      "image/png": "[encoded data removed]",
      "text/plain": [
       "<Figure size 1080x1080 with 2 Axes>"
      ]
     },
     "metadata": {
      "needs_background": "light"
     },
     "output_type": "display_data"
    }
   ],
   "source": [
    "plt.figure(figsize=(15,15))\n",
    "sns.heatmap(data.drop(['_id','unitPrice','est_floor'],axis=1).corr(),\n",
    "            annot=True,  # 显示相关系数的数据\n",
    "            fmt='.2f',  # 只显示两位小数\n",
    "            linewidth=1,  # 设置每个单元格的距离\n",
    "            cmap='Reds',  # 设置热力图颜色\n",
    "            )\n",
    "plt.savefig('./img/heatmap.eps',format='eps',\n",
    "    bbox_inches='tight',pad_inches=0.0)\n",
    "plt.show()"
   ]
  },
  {
   "cell_type": "code",
   "execution_count": 208,
   "metadata": {},
   "outputs": [
    {
     "data": {
      "image/png": "[encoded data removed]",
      "text/plain": [
       "<Figure size 1440x1296 with 3 Axes>"
      ]
     },
     "metadata": {
      "needs_background": "light"
     },
     "output_type": "display_data"
    }
   ],
   "source": [
    "regionPrice=data.groupby('region')['unitPrice']\\\n",
    "    .mean().sort_values(ascending=False).to_frame().reset_index()\n",
    "regionCount=data.groupby('region')['_id']\\\n",
    "    .count().sort_values(ascending=False).to_frame().reset_index()\n",
    "\n",
    "f, [ax1, ax2, ax3] = plt.subplots(3, 1, figsize=(20, 18))\n",
    "bar1=sns.barplot(x='region',y='unitPrice',palette=\"Blues_d\",\\\n",
    "    data=regionPrice,ax=ax1)\n",
    "ax1.bar_label(bar1.containers[0])\n",
    "ax1.set_xlabel('区域')\n",
    "ax1.set_ylabel('单价')\n",
    "ax1.set_title('西安各区二手房每平米单价')\n",
    "\n",
    "bar2=sns.barplot(x='region',y='_id',palette=\"Greens_d\",\\\n",
    "    data=regionCount,ax=ax2)\n",
    "ax2.bar_label(bar2.containers[0])\n",
    "ax2.set_xlabel('区域')\n",
    "ax2.set_ylabel('数量')\n",
    "ax2.set_title('西安各区二手房数量')\n",
    "\n",
    "sns.boxplot(x='region', y='totalPrice', data=data, ax=ax3)\n",
    "ax3.set_xlabel('区域')\n",
    "ax3.set_ylabel('房屋总价')\n",
    "ax3.set_title('西安各区二手房房屋总价')\n",
    "\n",
    "plt.savefig('./img/insight.eps',\\\n",
    "    format='eps',bbox_inches='tight',pad_inches=0.0)\n",
    "plt.show()"
   ]
  },
  {
   "attachments": {},
   "cell_type": "markdown",
   "metadata": {},
   "source": [
    "## One-hot & Save data\n",
    "* `region`, `garden`, `renovation`, `heating`, `year`, `building`, `structure`, `type`, `direction` 这些字符变量需要独热处理\n",
    "* 将 `cols` 中的特征保存到 `proccessed_data.csv` 中\\\n",
    "至此，数据才可用于模型训练"
   ]
  },
  {
   "cell_type": "code",
   "execution_count": 209,
   "metadata": {},
   "outputs": [],
   "source": [
    "cols=['_id','totalPrice','area','region','garden','renovation',\\\n",
    "    'elevator','heating', 'building_height', 'est_floor','perStair',\\\n",
    "    'layout_room','layout_hall', 'layout_kitchen', 'layout_bathroom',\\\n",
    "    'year','building','structure','type','direction',]\n",
    "outPut=data[cols]\n",
    "outPut=pd.get_dummies(outPut,drop_first=True)\n",
    "outPut.to_csv('proccessed_data.csv',index=False)"
   ]
  }
 ],
 "metadata": {
  "kernelspec": {
   "display_name": "base",
   "language": "python",
   "name": "python3"
  },
  "language_info": {
   "codemirror_mode": {
    "name": "ipython",
    "version": 3
   },
   "file_extension": ".py",
   "mimetype": "text/x-python",
   "name": "python",
   "nbconvert_exporter": "python",
   "pygments_lexer": "ipython3",
   "version": "3.9.12 (main, Apr  4 2022, 05:22:27) [MSC v.1916 64 bit (AMD64)]"
  },
  "orig_nbformat": 4,
  "vscode": {
   "interpreter": {
    "hash": "0f9f03cc5bc07f8cfd409a369e7e587dcf0118f090deeee7c758334e0412c621"
   }
  }
 },
 "nbformat": 4,
 "nbformat_minor": 2
}
